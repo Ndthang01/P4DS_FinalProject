{
 "cells": [
  {
   "cell_type": "markdown",
   "metadata": {},
   "source": [
    "# 1. Import các thư viện cần thiết"
   ]
  },
  {
   "cell_type": "code",
   "execution_count": 1,
   "metadata": {},
   "outputs": [],
   "source": [
    "import pandas as pd\n",
    "import numpy as np\n"
   ]
  },
  {
   "cell_type": "markdown",
   "metadata": {},
   "source": [
    "# 2. Thu thập dữ liệu\n"
   ]
  },
  {
   "cell_type": "markdown",
   "metadata": {},
   "source": [
    "### Dữ liệu thuộc chủ đề gì và lấy từ nguồn nào?\n",
    "* Dữ liệu sử dụng trong đồ án được lấy từ trang kaggle thu thập các thông tin về \"Hollywood Theatrical Market Synopsis 1995 to 2021\"\n",
    "\n",
    "* Có tổng cộng 9 file csv. Trong đồ án này ta dùng \n",
    "\"AnnualTicketSales.csv\"\n",
    " "
   ]
  },
  {
   "cell_type": "markdown",
   "metadata": {},
   "source": [
    "# 3. KHÁM PHÁ DỮ LIỆU"
   ]
  },
  {
   "cell_type": "code",
   "execution_count": 2,
   "metadata": {},
   "outputs": [
    {
     "data": {
      "text/html": [
       "<div>\n",
       "<style scoped>\n",
       "    .dataframe tbody tr th:only-of-type {\n",
       "        vertical-align: middle;\n",
       "    }\n",
       "\n",
       "    .dataframe tbody tr th {\n",
       "        vertical-align: top;\n",
       "    }\n",
       "\n",
       "    .dataframe thead th {\n",
       "        text-align: right;\n",
       "    }\n",
       "</style>\n",
       "<table border=\"1\" class=\"dataframe\">\n",
       "  <thead>\n",
       "    <tr style=\"text-align: right;\">\n",
       "      <th></th>\n",
       "      <th>YEAR</th>\n",
       "      <th>TICKETS SOLD</th>\n",
       "      <th>TOTAL BOX OFFICE</th>\n",
       "      <th>TOTAL INFLATION ADJUSTED BOX OFFICE</th>\n",
       "      <th>AVERAGE TICKET PRICE</th>\n",
       "    </tr>\n",
       "  </thead>\n",
       "  <tbody>\n",
       "    <tr>\n",
       "      <th>0</th>\n",
       "      <td>2021</td>\n",
       "      <td>42,37,74,881</td>\n",
       "      <td>$3,881,777,912</td>\n",
       "      <td>$3,881,777,912</td>\n",
       "      <td>$9.16</td>\n",
       "    </tr>\n",
       "    <tr>\n",
       "      <th>1</th>\n",
       "      <td>2020</td>\n",
       "      <td>22,36,38,958</td>\n",
       "      <td>$2,048,534,616</td>\n",
       "      <td>$2,048,534,616</td>\n",
       "      <td>$9.16</td>\n",
       "    </tr>\n",
       "    <tr>\n",
       "      <th>2</th>\n",
       "      <td>2019</td>\n",
       "      <td>1,22,85,41,629</td>\n",
       "      <td>$11,253,443,955</td>\n",
       "      <td>$11,253,444,050</td>\n",
       "      <td>$9.16</td>\n",
       "    </tr>\n",
       "    <tr>\n",
       "      <th>3</th>\n",
       "      <td>2018</td>\n",
       "      <td>1,31,15,36,128</td>\n",
       "      <td>$11,948,096,650</td>\n",
       "      <td>$12,013,670,952</td>\n",
       "      <td>$9.11</td>\n",
       "    </tr>\n",
       "    <tr>\n",
       "      <th>4</th>\n",
       "      <td>2017</td>\n",
       "      <td>1,22,56,39,761</td>\n",
       "      <td>$10,993,991,460</td>\n",
       "      <td>$11,226,860,216</td>\n",
       "      <td>$8.97</td>\n",
       "    </tr>\n",
       "  </tbody>\n",
       "</table>\n",
       "</div>"
      ],
      "text/plain": [
       "   YEAR    TICKETS SOLD TOTAL BOX OFFICE TOTAL INFLATION ADJUSTED BOX OFFICE  \\\n",
       "0  2021    42,37,74,881   $3,881,777,912                      $3,881,777,912   \n",
       "1  2020    22,36,38,958   $2,048,534,616                      $2,048,534,616   \n",
       "2  2019  1,22,85,41,629  $11,253,443,955                     $11,253,444,050   \n",
       "3  2018  1,31,15,36,128  $11,948,096,650                     $12,013,670,952   \n",
       "4  2017  1,22,56,39,761  $10,993,991,460                     $11,226,860,216   \n",
       "\n",
       "  AVERAGE TICKET PRICE  \n",
       "0                $9.16  \n",
       "1                $9.16  \n",
       "2                $9.16  \n",
       "3                $9.11  \n",
       "4                $8.97  "
      ]
     },
     "execution_count": 2,
     "metadata": {},
     "output_type": "execute_result"
    }
   ],
   "source": [
    "project_dataframe= pd.read_csv('data/AnnualTicketSales.csv',sep=',')\n",
    "project_dataframe.drop(\"Unnamed: 5\",axis=1, inplace=True)\n",
    "project_dataframe.head()\n"
   ]
  },
  {
   "cell_type": "markdown",
   "metadata": {},
   "source": [
    "### Dữ liệu có bao nhiêu dòng và bao nhiêu cột"
   ]
  },
  {
   "cell_type": "code",
   "execution_count": 3,
   "metadata": {},
   "outputs": [],
   "source": [
    "num_rows, num_cols= project_dataframe.shape"
   ]
  },
  {
   "cell_type": "markdown",
   "metadata": {},
   "source": [
    "### Mỗi dòng có ý nghĩa gì? "
   ]
  },
  {
   "cell_type": "markdown",
   "metadata": {},
   "source": [
    "Mỗi dòng cho biết các thông tin về doanh thu, giá vé trung bình, lượng vé bán được qua mỗi năm."
   ]
  },
  {
   "cell_type": "markdown",
   "metadata": {},
   "source": [
    "### Có vấn đề các dòng có ý nghĩa khác nhau không?"
   ]
  },
  {
   "cell_type": "markdown",
   "metadata": {},
   "source": [
    "Nhìn tổng quan, các dòng đều giống nhau về ý nghĩa"
   ]
  },
  {
   "cell_type": "markdown",
   "metadata": {},
   "source": [
    "### Dữ liệu có các dòng bị lặp không?"
   ]
  },
  {
   "cell_type": "code",
   "execution_count": 4,
   "metadata": {},
   "outputs": [
    {
     "name": "stdout",
     "output_type": "stream",
     "text": [
      " Don't have duplicated_rows\n"
     ]
    }
   ],
   "source": [
    "duplicated_rows=project_dataframe.duplicated().all()\n",
    "if (duplicated_rows== False) : print(\" Don't have duplicated_rows\")"
   ]
  },
  {
   "cell_type": "markdown",
   "metadata": {},
   "source": [
    "### Mỗi cột có ý nghĩa gì?"
   ]
  },
  {
   "cell_type": "code",
   "execution_count": 5,
   "metadata": {},
   "outputs": [
    {
     "data": {
      "text/html": [
       "<div>\n",
       "<style scoped>\n",
       "    .dataframe tbody tr th:only-of-type {\n",
       "        vertical-align: middle;\n",
       "    }\n",
       "\n",
       "    .dataframe tbody tr th {\n",
       "        vertical-align: top;\n",
       "    }\n",
       "\n",
       "    .dataframe thead th {\n",
       "        text-align: right;\n",
       "    }\n",
       "</style>\n",
       "<table border=\"1\" class=\"dataframe\">\n",
       "  <thead>\n",
       "    <tr style=\"text-align: right;\">\n",
       "      <th></th>\n",
       "      <th>Columns</th>\n",
       "      <th>description</th>\n",
       "    </tr>\n",
       "  </thead>\n",
       "  <tbody>\n",
       "    <tr>\n",
       "      <th>0</th>\n",
       "      <td>YEAR</td>\n",
       "      <td>Year in which the corresponding theatrical market data has been collected</td>\n",
       "    </tr>\n",
       "    <tr>\n",
       "      <th>1</th>\n",
       "      <td>TICKETS SOLD</td>\n",
       "      <td>The total number of domestic movie tickets sold in each of the respective years</td>\n",
       "    </tr>\n",
       "    <tr>\n",
       "      <th>2</th>\n",
       "      <td>TOTAL BOX OFFICE</td>\n",
       "      <td>Total box office collection combined of all movies released that particular year considered</td>\n",
       "    </tr>\n",
       "    <tr>\n",
       "      <th>3</th>\n",
       "      <td>TOTAL INFLATION ADJUSTED BOX OFFICE</td>\n",
       "      <td>Adjusted box office collection with respect to the inflammation that has been caused over time</td>\n",
       "    </tr>\n",
       "    <tr>\n",
       "      <th>4</th>\n",
       "      <td>AVERAGE TICKET PRICE</td>\n",
       "      <td>The average ticket price considering all films released that particular year considered</td>\n",
       "    </tr>\n",
       "  </tbody>\n",
       "</table>\n",
       "</div>"
      ],
      "text/plain": [
       "                               Columns  \\\n",
       "0                                 YEAR   \n",
       "1                         TICKETS SOLD   \n",
       "2                     TOTAL BOX OFFICE   \n",
       "3  TOTAL INFLATION ADJUSTED BOX OFFICE   \n",
       "4                 AVERAGE TICKET PRICE   \n",
       "\n",
       "                                                                                       description  \n",
       "0                        Year in which the corresponding theatrical market data has been collected  \n",
       "1                  The total number of domestic movie tickets sold in each of the respective years  \n",
       "2      Total box office collection combined of all movies released that particular year considered  \n",
       "3   Adjusted box office collection with respect to the inflammation that has been caused over time  \n",
       "4          The average ticket price considering all films released that particular year considered  "
      ]
     },
     "execution_count": 5,
     "metadata": {},
     "output_type": "execute_result"
    }
   ],
   "source": [
    "\n",
    "Annualticket_sales_descript=pd.read_csv('Data_description/AnnualTicketSales_decription.csv')\n",
    "\n",
    "pd.set_option('display.max_colwidth',None)\n",
    "Annualticket_sales_descript"
   ]
  },
  {
   "cell_type": "markdown",
   "metadata": {},
   "source": [
    "### Mỗi cột hiện đang có kiểu dữ liệu gì? "
   ]
  },
  {
   "cell_type": "code",
   "execution_count": 6,
   "metadata": {},
   "outputs": [
    {
     "data": {
      "text/plain": [
       "YEAR                                    int64\n",
       "TICKETS SOLD                           object\n",
       "TOTAL BOX OFFICE                       object\n",
       "TOTAL INFLATION ADJUSTED BOX OFFICE    object\n",
       "AVERAGE TICKET PRICE                   object\n",
       "dtype: object"
      ]
     },
     "execution_count": 6,
     "metadata": {},
     "output_type": "execute_result"
    }
   ],
   "source": [
    "project_dataframe.dtypes"
   ]
  },
  {
   "cell_type": "markdown",
   "metadata": {},
   "source": [
    "Các cột dữ liệu đang có type là \"Object\", kiểm tra các kiểu dữ liệu tồn tại trong nội bộ các cột."
   ]
  },
  {
   "cell_type": "code",
   "execution_count": 7,
   "metadata": {},
   "outputs": [
    {
     "name": "stdout",
     "output_type": "stream",
     "text": [
      "dtype of  YEAR  : {<class 'int'>}\n",
      "dtype of  TICKETS SOLD  : {<class 'str'>}\n",
      "dtype of  TOTAL BOX OFFICE  : {<class 'str'>}\n",
      "dtype of  TOTAL INFLATION ADJUSTED BOX OFFICE  : {<class 'str'>}\n",
      "dtype of  AVERAGE TICKET PRICE  : {<class 'str'>}\n"
     ]
    }
   ],
   "source": [
    "def type_(value):\n",
    "    return type(value)\n",
    "def check_type(s):\n",
    "    dtypes = set()\n",
    "    h=s.apply(type_)\n",
    "    dtypes=set(h)\n",
    "    return dtypes\n",
    "col_name=project_dataframe.columns\n",
    "\n",
    "df_Types=[]\n",
    "for i in col_name:\n",
    "    df_Types.append(check_type(project_dataframe[i]))\n",
    "for i in range(len(col_name)):\n",
    "    print(\"dtype of \",col_name[i],\" :\",df_Types[i])\n",
    "\n",
    "    "
   ]
  },
  {
   "cell_type": "markdown",
   "metadata": {},
   "source": [
    "Nhận xét: \n",
    "* Ta nên đưa cột \"YEAR\" đang có kiểu int về kiểu dữ liệu datetime, có điều trong những bước xử lý tiếp theo có vẻ như không ảnh hưởng nên tạm thời ta để vậy.\n",
    "* TICKETS SOLD (string) nên được đưa về kiểu dữ liệu dạng số (numerical) sau khi xử lý loại bỏ dấu , trong dòng\n",
    "* 3 cột \"TOTAL BOX OFFICE\",\"TOTAL INFLATION ADJUSTED BOX OFFICE\",\"AVERAGE TICKET PRICE\"  (đang có kiểu string) cần xử lý loại bỏ \"$\". rồi đưa về dữ liệu dạng số(numerical) "
   ]
  },
  {
   "cell_type": "markdown",
   "metadata": {},
   "source": [
    "### Có cột nào có kiểu dữ liệu chưa phù hợp để có thể xử lý tiếp không?\n",
    "\n"
   ]
  },
  {
   "cell_type": "markdown",
   "metadata": {},
   "source": [
    "* Đưa tickets sold về kiểu dữ liệu Float64"
   ]
  },
  {
   "cell_type": "code",
   "execution_count": 8,
   "metadata": {},
   "outputs": [],
   "source": [
    "# loại bỏ dấu ' trong chuỗi '\n",
    "project_dataframe['TICKETS SOLD']=project_dataframe['TICKETS SOLD'].str.replace(',', '',regex= False)\n",
    "project_dataframe['TICKETS SOLD']=project_dataframe['TICKETS SOLD'].apply(np.float64)"
   ]
  },
  {
   "cell_type": "markdown",
   "metadata": {},
   "source": [
    "* Đưa \"TOTAL BOX OFFICE\",\"TOTAL INFLATION ADJUSTED BOX OFFICE\",\"AVERAGE TICKET PRICE\" về kiểu dữ liệu float 64"
   ]
  },
  {
   "cell_type": "code",
   "execution_count": 9,
   "metadata": {},
   "outputs": [],
   "source": [
    "def remove_(s):  # xóa kí tự \"$\", \",\" trong chuỗi\n",
    "    s=s.replace('$','')\n",
    "    s=s.replace(',','')\n",
    "    return s\n",
    "def change_dtypes(s):\n",
    "    s=s.apply(remove_)\n",
    "    s=s.apply(np.float64)\n",
    "    return s\n",
    "col_name=[\"TOTAL BOX OFFICE\",\"TOTAL INFLATION ADJUSTED BOX OFFICE\",\"AVERAGE TICKET PRICE\"]\n",
    "# print(project_dataframe[\"TOTAL BOX OFFICE\"])\n",
    "for i in col_name:\n",
    "    project_dataframe[i]=change_dtypes(project_dataframe[i])\n",
    "    \n"
   ]
  },
  {
   "cell_type": "markdown",
   "metadata": {},
   "source": [
    "* Kiểu dữ liệu các cột sau khi đã xử lý"
   ]
  },
  {
   "cell_type": "code",
   "execution_count": 10,
   "metadata": {},
   "outputs": [
    {
     "data": {
      "text/plain": [
       "YEAR                                     int64\n",
       "TICKETS SOLD                           float64\n",
       "TOTAL BOX OFFICE                       float64\n",
       "TOTAL INFLATION ADJUSTED BOX OFFICE    float64\n",
       "AVERAGE TICKET PRICE                   float64\n",
       "dtype: object"
      ]
     },
     "execution_count": 10,
     "metadata": {},
     "output_type": "execute_result"
    }
   ],
   "source": [
    "project_dataframe.dtypes"
   ]
  },
  {
   "cell_type": "markdown",
   "metadata": {},
   "source": [
    "### Với mỗi cột có kiểu dữ liệu dạng số (numerical), các giá trị được phân bố như thế nào?\n",
    "• Số-lượng/tỉ-lệ các giá trị thiếu?\n",
    "\n",
    "• Min? max? \n",
    "\n",
    "→ Có gì bất thường không?"
   ]
  },
  {
   "cell_type": "markdown",
   "metadata": {},
   "source": [
    "• Số-lượng/tỉ-lệ các giá trị thiếu?"
   ]
  },
  {
   "cell_type": "code",
   "execution_count": 11,
   "metadata": {},
   "outputs": [
    {
     "name": "stdout",
     "output_type": "stream",
     "text": [
      "missing_percent\n",
      "{ YEAR :  0.0 }\n",
      "{ TICKETS SOLD :  0.0 }\n",
      "{ TOTAL BOX OFFICE :  0.0 }\n",
      "{ TOTAL INFLATION ADJUSTED BOX OFFICE :  0.0 }\n",
      "{ AVERAGE TICKET PRICE :  0.0 }\n"
     ]
    }
   ],
   "source": [
    "\n",
    "\n",
    "def missing_percent(s):\n",
    "    missing_count=s.isnull().sum() + s[s==\" \"].count()\n",
    "    result=float(missing_count)/float(s.shape[0]) * float(100)\n",
    "    return result\n",
    "print(\"missing_percent\")\n",
    "col_name=project_dataframe.columns\n",
    "for i in col_name:\n",
    "    missing=missing_percent(project_dataframe[i])\n",
    "    print(\"{\", i, \": \",missing, \"}\")"
   ]
  },
  {
   "cell_type": "markdown",
   "metadata": {},
   "source": [
    "=> vậy các cột không có dữ liệu thiếu"
   ]
  },
  {
   "cell_type": "markdown",
   "metadata": {},
   "source": [
    "* Min/Max các cột"
   ]
  },
  {
   "cell_type": "code",
   "execution_count": 12,
   "metadata": {},
   "outputs": [
    {
     "name": "stdout",
     "output_type": "stream",
     "text": [
      "YEAR : { Min = 1995 ;Max = 2021  }\n",
      "TICKETS SOLD : { Min = 223638958.0 ;Max = 1575756527.0  }\n",
      "TOTAL BOX OFFICE : { Min = 2048534616.0 ;Max = 11948096650.0  }\n",
      "TOTAL INFLATION ADJUSTED BOX OFFICE : { Min = 2048534616.0 ;Max = 14433929789.0  }\n",
      "AVERAGE TICKET PRICE : { Min = 4.35 ;Max = 9.16  }\n"
     ]
    }
   ],
   "source": [
    "col_name=project_dataframe.columns\n",
    "df=project_dataframe\n",
    "for i in col_name:\n",
    "    print(i,\": {Min =\", np.min(df[i]), \";Max =\", np.max(df[i]), \"}\")\n"
   ]
  },
  {
   "cell_type": "markdown",
   "metadata": {},
   "source": [
    "=> không có gì bất thường"
   ]
  },
  {
   "cell_type": "markdown",
   "metadata": {},
   "source": [
    "### Với mỗi cột có kiểu dữ liệu dạng phân loại (categorical), các giá trị được phân bố như thế nào?\n",
    "• Số-lượng/tỉ-lệ các giá trị thiếu?\n",
    "\n",
    "• Số lượng các giá trị khác nhau? Show một vài giá trị\n",
    "\n",
    "→ Có gì bất thường không?"
   ]
  },
  {
   "cell_type": "markdown",
   "metadata": {},
   "source": [
    "# 4. Đưa ra các câu hỏi có ý nghĩa cần trả lời"
   ]
  },
  {
   "cell_type": "markdown",
   "metadata": {},
   "source": [
    "# 5.Tiền xử lý + phân tích dữ liệu để trả lời cho từng câu hỏi"
   ]
  }
 ],
 "metadata": {
  "kernelspec": {
   "display_name": "Python 3 (ipykernel)",
   "language": "python",
   "name": "python3"
  },
  "language_info": {
   "codemirror_mode": {
    "name": "ipython",
    "version": 3
   },
   "file_extension": ".py",
   "mimetype": "text/x-python",
   "name": "python",
   "nbconvert_exporter": "python",
   "pygments_lexer": "ipython3",
   "version": "3.8.8"
  }
 },
 "nbformat": 4,
 "nbformat_minor": 2
}
