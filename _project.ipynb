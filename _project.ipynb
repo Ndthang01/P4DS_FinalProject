{
 "cells": [
  {
   "cell_type": "markdown",
   "metadata": {},
   "source": [
    "# 1. Import các thư viện"
   ]
  },
  {
   "cell_type": "code",
   "execution_count": 1,
   "metadata": {},
   "outputs": [],
   "source": [
    "import pandas as pd\n",
    "import numpy as np\n",
    "import matplotlib.pyplot as plt"
   ]
  },
  {
   "cell_type": "markdown",
   "metadata": {},
   "source": [
    "# 2. Thu thập dữ liệu"
   ]
  },
  {
   "cell_type": "markdown",
   "metadata": {},
   "source": [
    "### Dữ liệu thuộc chủ đề gì và lấy từ nguồn nào?\n",
    "* [Dữ liệu](https://www.kaggle.com/bcruise/data-scientist-salary-eda/data) sử dụng trong đồ án được lấy từ trang Kaggle thu thập các thông tin về \"Data scientist salary\".\n",
    " "
   ]
  },
  {
   "cell_type": "markdown",
   "metadata": {},
   "source": [
    "# 3. Khám phá dữ liệu"
   ]
  },
  {
   "cell_type": "markdown",
   "metadata": {},
   "source": [
    "### Đọc dữ liệu từ file csv vào dataframes"
   ]
  },
  {
   "cell_type": "code",
   "execution_count": 2,
   "metadata": {
    "scrolled": false
   },
   "outputs": [
    {
     "data": {
      "text/html": [
       "<div>\n",
       "<style scoped>\n",
       "    .dataframe tbody tr th:only-of-type {\n",
       "        vertical-align: middle;\n",
       "    }\n",
       "\n",
       "    .dataframe tbody tr th {\n",
       "        vertical-align: top;\n",
       "    }\n",
       "\n",
       "    .dataframe thead th {\n",
       "        text-align: right;\n",
       "    }\n",
       "</style>\n",
       "<table border=\"1\" class=\"dataframe\">\n",
       "  <thead>\n",
       "    <tr style=\"text-align: right;\">\n",
       "      <th></th>\n",
       "      <th>Job Title</th>\n",
       "      <th>Salary Estimate</th>\n",
       "      <th>Job Description</th>\n",
       "      <th>Rating</th>\n",
       "      <th>Company Name</th>\n",
       "      <th>Location</th>\n",
       "      <th>Headquarters</th>\n",
       "      <th>Size</th>\n",
       "      <th>Founded</th>\n",
       "      <th>Type of ownership</th>\n",
       "      <th>...</th>\n",
       "      <th>tensor</th>\n",
       "      <th>hadoop</th>\n",
       "      <th>tableau</th>\n",
       "      <th>bi</th>\n",
       "      <th>flink</th>\n",
       "      <th>mongo</th>\n",
       "      <th>google_an</th>\n",
       "      <th>job_title_sim</th>\n",
       "      <th>seniority_by_title</th>\n",
       "      <th>Degree</th>\n",
       "    </tr>\n",
       "    <tr>\n",
       "      <th>index</th>\n",
       "      <th></th>\n",
       "      <th></th>\n",
       "      <th></th>\n",
       "      <th></th>\n",
       "      <th></th>\n",
       "      <th></th>\n",
       "      <th></th>\n",
       "      <th></th>\n",
       "      <th></th>\n",
       "      <th></th>\n",
       "      <th></th>\n",
       "      <th></th>\n",
       "      <th></th>\n",
       "      <th></th>\n",
       "      <th></th>\n",
       "      <th></th>\n",
       "      <th></th>\n",
       "      <th></th>\n",
       "      <th></th>\n",
       "      <th></th>\n",
       "      <th></th>\n",
       "    </tr>\n",
       "  </thead>\n",
       "  <tbody>\n",
       "    <tr>\n",
       "      <th>0</th>\n",
       "      <td>Data Scientist</td>\n",
       "      <td>$53K-$91K (Glassdoor est.)</td>\n",
       "      <td>Data Scientist\\r\\nLocation: Albuquerque, NM\\r\\...</td>\n",
       "      <td>3.8</td>\n",
       "      <td>Tecolote Research\\r\\n3.8</td>\n",
       "      <td>Albuquerque, NM</td>\n",
       "      <td>Goleta, CA</td>\n",
       "      <td>501 - 1000</td>\n",
       "      <td>1973</td>\n",
       "      <td>Company - Private</td>\n",
       "      <td>...</td>\n",
       "      <td>0</td>\n",
       "      <td>0</td>\n",
       "      <td>1</td>\n",
       "      <td>1</td>\n",
       "      <td>0</td>\n",
       "      <td>0</td>\n",
       "      <td>0</td>\n",
       "      <td>data scientist</td>\n",
       "      <td>na</td>\n",
       "      <td>M</td>\n",
       "    </tr>\n",
       "    <tr>\n",
       "      <th>1</th>\n",
       "      <td>Healthcare Data Scientist</td>\n",
       "      <td>$63K-$112K (Glassdoor est.)</td>\n",
       "      <td>What You Will Do:\\r\\n\\r\\nI. General Summary\\r\\...</td>\n",
       "      <td>3.4</td>\n",
       "      <td>University of Maryland Medical System\\r\\n3.4</td>\n",
       "      <td>Linthicum, MD</td>\n",
       "      <td>Baltimore, MD</td>\n",
       "      <td>10000+</td>\n",
       "      <td>1984</td>\n",
       "      <td>Other Organization</td>\n",
       "      <td>...</td>\n",
       "      <td>0</td>\n",
       "      <td>0</td>\n",
       "      <td>0</td>\n",
       "      <td>0</td>\n",
       "      <td>0</td>\n",
       "      <td>0</td>\n",
       "      <td>0</td>\n",
       "      <td>data scientist</td>\n",
       "      <td>na</td>\n",
       "      <td>M</td>\n",
       "    </tr>\n",
       "    <tr>\n",
       "      <th>2</th>\n",
       "      <td>Data Scientist</td>\n",
       "      <td>$80K-$90K (Glassdoor est.)</td>\n",
       "      <td>KnowBe4, Inc. is a high growth information sec...</td>\n",
       "      <td>4.8</td>\n",
       "      <td>KnowBe4\\r\\n4.8</td>\n",
       "      <td>Clearwater, FL</td>\n",
       "      <td>Clearwater, FL</td>\n",
       "      <td>501 - 1000</td>\n",
       "      <td>2010</td>\n",
       "      <td>Company - Private</td>\n",
       "      <td>...</td>\n",
       "      <td>0</td>\n",
       "      <td>0</td>\n",
       "      <td>0</td>\n",
       "      <td>0</td>\n",
       "      <td>0</td>\n",
       "      <td>0</td>\n",
       "      <td>0</td>\n",
       "      <td>data scientist</td>\n",
       "      <td>na</td>\n",
       "      <td>M</td>\n",
       "    </tr>\n",
       "    <tr>\n",
       "      <th>3</th>\n",
       "      <td>Data Scientist</td>\n",
       "      <td>$56K-$97K (Glassdoor est.)</td>\n",
       "      <td>*Organization and Job ID**\\r\\nJob ID: 310709\\r...</td>\n",
       "      <td>3.8</td>\n",
       "      <td>PNNL\\r\\n3.8</td>\n",
       "      <td>Richland, WA</td>\n",
       "      <td>Richland, WA</td>\n",
       "      <td>1001 - 5000</td>\n",
       "      <td>1965</td>\n",
       "      <td>Government</td>\n",
       "      <td>...</td>\n",
       "      <td>0</td>\n",
       "      <td>0</td>\n",
       "      <td>0</td>\n",
       "      <td>0</td>\n",
       "      <td>0</td>\n",
       "      <td>0</td>\n",
       "      <td>0</td>\n",
       "      <td>data scientist</td>\n",
       "      <td>na</td>\n",
       "      <td>na</td>\n",
       "    </tr>\n",
       "    <tr>\n",
       "      <th>4</th>\n",
       "      <td>Data Scientist</td>\n",
       "      <td>$86K-$143K (Glassdoor est.)</td>\n",
       "      <td>Data Scientist\\r\\nAffinity Solutions / Marketi...</td>\n",
       "      <td>2.9</td>\n",
       "      <td>Affinity Solutions\\r\\n2.9</td>\n",
       "      <td>New York, NY</td>\n",
       "      <td>New York, NY</td>\n",
       "      <td>51 - 200</td>\n",
       "      <td>1998</td>\n",
       "      <td>Company - Private</td>\n",
       "      <td>...</td>\n",
       "      <td>0</td>\n",
       "      <td>0</td>\n",
       "      <td>0</td>\n",
       "      <td>0</td>\n",
       "      <td>0</td>\n",
       "      <td>0</td>\n",
       "      <td>0</td>\n",
       "      <td>data scientist</td>\n",
       "      <td>na</td>\n",
       "      <td>na</td>\n",
       "    </tr>\n",
       "  </tbody>\n",
       "</table>\n",
       "<p>5 rows × 41 columns</p>\n",
       "</div>"
      ],
      "text/plain": [
       "                       Job Title              Salary Estimate  \\\n",
       "index                                                           \n",
       "0                 Data Scientist   $53K-$91K (Glassdoor est.)   \n",
       "1      Healthcare Data Scientist  $63K-$112K (Glassdoor est.)   \n",
       "2                 Data Scientist   $80K-$90K (Glassdoor est.)   \n",
       "3                 Data Scientist   $56K-$97K (Glassdoor est.)   \n",
       "4                 Data Scientist  $86K-$143K (Glassdoor est.)   \n",
       "\n",
       "                                         Job Description  Rating  \\\n",
       "index                                                              \n",
       "0      Data Scientist\\r\\nLocation: Albuquerque, NM\\r\\...     3.8   \n",
       "1      What You Will Do:\\r\\n\\r\\nI. General Summary\\r\\...     3.4   \n",
       "2      KnowBe4, Inc. is a high growth information sec...     4.8   \n",
       "3      *Organization and Job ID**\\r\\nJob ID: 310709\\r...     3.8   \n",
       "4      Data Scientist\\r\\nAffinity Solutions / Marketi...     2.9   \n",
       "\n",
       "                                       Company Name         Location  \\\n",
       "index                                                                  \n",
       "0                          Tecolote Research\\r\\n3.8  Albuquerque, NM   \n",
       "1      University of Maryland Medical System\\r\\n3.4    Linthicum, MD   \n",
       "2                                    KnowBe4\\r\\n4.8   Clearwater, FL   \n",
       "3                                       PNNL\\r\\n3.8     Richland, WA   \n",
       "4                         Affinity Solutions\\r\\n2.9     New York, NY   \n",
       "\n",
       "         Headquarters          Size  Founded   Type of ownership  ... tensor  \\\n",
       "index                                                             ...          \n",
       "0          Goleta, CA   501 - 1000      1973   Company - Private  ...      0   \n",
       "1       Baltimore, MD       10000+      1984  Other Organization  ...      0   \n",
       "2      Clearwater, FL   501 - 1000      2010   Company - Private  ...      0   \n",
       "3        Richland, WA  1001 - 5000      1965          Government  ...      0   \n",
       "4        New York, NY     51 - 200      1998   Company - Private  ...      0   \n",
       "\n",
       "      hadoop tableau bi  flink  mongo  google_an   job_title_sim  \\\n",
       "index                                                              \n",
       "0          0       1  1      0      0          0  data scientist   \n",
       "1          0       0  0      0      0          0  data scientist   \n",
       "2          0       0  0      0      0          0  data scientist   \n",
       "3          0       0  0      0      0          0  data scientist   \n",
       "4          0       0  0      0      0          0  data scientist   \n",
       "\n",
       "       seniority_by_title Degree  \n",
       "index                             \n",
       "0                      na      M  \n",
       "1                      na      M  \n",
       "2                      na      M  \n",
       "3                      na     na  \n",
       "4                      na     na  \n",
       "\n",
       "[5 rows x 41 columns]"
      ]
     },
     "execution_count": 2,
     "metadata": {},
     "output_type": "execute_result"
    }
   ],
   "source": [
    "project_dataframe= pd.read_csv('data_cleaned_2021.csv',index_col='index')\n",
    "project_dataframe.head()"
   ]
  },
  {
   "cell_type": "markdown",
   "metadata": {},
   "source": [
    "### Dữ liệu có bao nhiêu dòng và bao nhiêu cột?"
   ]
  },
  {
   "cell_type": "code",
   "execution_count": 3,
   "metadata": {},
   "outputs": [
    {
     "name": "stdout",
     "output_type": "stream",
     "text": [
      "Number of rows:  742\n",
      "Number of columns:  41\n"
     ]
    }
   ],
   "source": [
    "num_rows, num_cols= project_dataframe.shape\n",
    "print('Number of rows: ', num_rows)\n",
    "print('Number of columns: ', num_cols)"
   ]
  },
  {
   "cell_type": "markdown",
   "metadata": {},
   "source": [
    "### Mỗi dòng có ý nghĩa gì? "
   ]
  },
  {
   "cell_type": "markdown",
   "metadata": {},
   "source": [
    "Mỗi dòng chứa các thông tin về mức lương tối thiểu/ tối đa/ trung bình, mô tả công việc, tuổi công ty,....\n",
    "Các giá trị -1 nghĩa là thông tin không có sẵn."
   ]
  },
  {
   "cell_type": "markdown",
   "metadata": {},
   "source": [
    "### Có vấn đề các dòng có ý nghĩa khác nhau không?"
   ]
  },
  {
   "cell_type": "markdown",
   "metadata": {},
   "source": [
    "Nhìn tổng quan, các dòng đều giống nhau về ý nghĩa."
   ]
  },
  {
   "cell_type": "markdown",
   "metadata": {},
   "source": [
    "### Dữ liệu có các dòng bị lặp không?"
   ]
  },
  {
   "cell_type": "code",
   "execution_count": 4,
   "metadata": {},
   "outputs": [
    {
     "name": "stdout",
     "output_type": "stream",
     "text": [
      "Have duplicated rows:  True\n",
      "Number of rows:  467\n",
      "Number of columns:  41\n"
     ]
    }
   ],
   "source": [
    "duplicated_rows=project_dataframe.duplicated().any()\n",
    "print('Have duplicated rows: ',duplicated_rows)\n",
    "# Xóa các dòng bị lặp\n",
    "project_dataframe.drop_duplicates(inplace=True)\n",
    "\n",
    "# Số dòng và số cột sau khi xóa các dòng bị lặp\n",
    "num_rows, num_cols = project_dataframe.shape\n",
    "print('Number of rows: ', num_rows)\n",
    "print('Number of columns: ', num_cols)"
   ]
  },
  {
   "cell_type": "markdown",
   "metadata": {},
   "source": [
    "### Mỗi cột có ý nghĩa gì?"
   ]
  },
  {
   "cell_type": "code",
   "execution_count": 5,
   "metadata": {},
   "outputs": [
    {
     "data": {
      "text/html": [
       "<div>\n",
       "<style scoped>\n",
       "    .dataframe tbody tr th:only-of-type {\n",
       "        vertical-align: middle;\n",
       "    }\n",
       "\n",
       "    .dataframe tbody tr th {\n",
       "        vertical-align: top;\n",
       "    }\n",
       "\n",
       "    .dataframe thead th {\n",
       "        text-align: right;\n",
       "    }\n",
       "</style>\n",
       "<table border=\"1\" class=\"dataframe\">\n",
       "  <thead>\n",
       "    <tr style=\"text-align: right;\">\n",
       "      <th></th>\n",
       "      <th>Columns</th>\n",
       "      <th>description</th>\n",
       "    </tr>\n",
       "  </thead>\n",
       "  <tbody>\n",
       "    <tr>\n",
       "      <th>0</th>\n",
       "      <td>Index</td>\n",
       "      <td>id</td>\n",
       "    </tr>\n",
       "    <tr>\n",
       "      <th>1</th>\n",
       "      <td>Job Title</td>\n",
       "      <td>The title of job</td>\n",
       "    </tr>\n",
       "    <tr>\n",
       "      <th>2</th>\n",
       "      <td>Salary Estimate</td>\n",
       "      <td>Range of salary and the source</td>\n",
       "    </tr>\n",
       "    <tr>\n",
       "      <th>3</th>\n",
       "      <td>Job Description</td>\n",
       "      <td>Tells us what qualities that company want and what is expected out of the job title</td>\n",
       "    </tr>\n",
       "    <tr>\n",
       "      <th>4</th>\n",
       "      <td>Rating</td>\n",
       "      <td>rating of the company</td>\n",
       "    </tr>\n",
       "    <tr>\n",
       "      <th>5</th>\n",
       "      <td>Company Name</td>\n",
       "      <td>Name of the company</td>\n",
       "    </tr>\n",
       "    <tr>\n",
       "      <th>6</th>\n",
       "      <td>Location</td>\n",
       "      <td>Location of the job</td>\n",
       "    </tr>\n",
       "    <tr>\n",
       "      <th>7</th>\n",
       "      <td>Headquarters</td>\n",
       "      <td>Location of headquarter of the company</td>\n",
       "    </tr>\n",
       "    <tr>\n",
       "      <th>8</th>\n",
       "      <td>Size</td>\n",
       "      <td>Range of number of employee working in the company</td>\n",
       "    </tr>\n",
       "    <tr>\n",
       "      <th>9</th>\n",
       "      <td>Founded</td>\n",
       "      <td>Company founded in year</td>\n",
       "    </tr>\n",
       "    <tr>\n",
       "      <th>10</th>\n",
       "      <td>Type of ownership</td>\n",
       "      <td>Industry like IT industry or Pharmaceutical industry etc</td>\n",
       "    </tr>\n",
       "    <tr>\n",
       "      <th>11</th>\n",
       "      <td>Sector</td>\n",
       "      <td>Sector in which company works</td>\n",
       "    </tr>\n",
       "    <tr>\n",
       "      <th>12</th>\n",
       "      <td>Revenue</td>\n",
       "      <td>Total revennue of the company per year</td>\n",
       "    </tr>\n",
       "    <tr>\n",
       "      <th>13</th>\n",
       "      <td>Competitors</td>\n",
       "      <td>Current competitors of the company</td>\n",
       "    </tr>\n",
       "    <tr>\n",
       "      <th>14</th>\n",
       "      <td>Hourly</td>\n",
       "      <td>1: If salary was reported in hourly rate. 0: Otherwise</td>\n",
       "    </tr>\n",
       "    <tr>\n",
       "      <th>15</th>\n",
       "      <td>Employer provided</td>\n",
       "      <td>1: If the salary was provided by the employer 0: Otherwise</td>\n",
       "    </tr>\n",
       "    <tr>\n",
       "      <th>16</th>\n",
       "      <td>Lower Salary</td>\n",
       "      <td>Minimum Salary reported for the job in a particular company.</td>\n",
       "    </tr>\n",
       "    <tr>\n",
       "      <th>17</th>\n",
       "      <td>Upper Salary</td>\n",
       "      <td>Maximum salary reported for the job in a particular company.</td>\n",
       "    </tr>\n",
       "    <tr>\n",
       "      <th>18</th>\n",
       "      <td>Avg Salary(K)</td>\n",
       "      <td>Average salary reported for the job in a particular company.</td>\n",
       "    </tr>\n",
       "    <tr>\n",
       "      <th>19</th>\n",
       "      <td>company_txt</td>\n",
       "      <td>It contains the name of the company.</td>\n",
       "    </tr>\n",
       "    <tr>\n",
       "      <th>20</th>\n",
       "      <td>Job Location</td>\n",
       "      <td>Cleaned job location (State) column</td>\n",
       "    </tr>\n",
       "    <tr>\n",
       "      <th>21</th>\n",
       "      <td>Age</td>\n",
       "      <td>Age of the company (in yrs)</td>\n",
       "    </tr>\n",
       "    <tr>\n",
       "      <th>22</th>\n",
       "      <td>Python</td>\n",
       "      <td>1: If Python skill is required 0: Otherwise</td>\n",
       "    </tr>\n",
       "    <tr>\n",
       "      <th>23</th>\n",
       "      <td>spark</td>\n",
       "      <td>1: If Spark skill is required 0: Otherwise</td>\n",
       "    </tr>\n",
       "    <tr>\n",
       "      <th>24</th>\n",
       "      <td>aws</td>\n",
       "      <td>1: If AWS skill is required 0: Otherwise</td>\n",
       "    </tr>\n",
       "    <tr>\n",
       "      <th>25</th>\n",
       "      <td>excel</td>\n",
       "      <td>1: If Excel skill is required 0: Otherwise</td>\n",
       "    </tr>\n",
       "    <tr>\n",
       "      <th>26</th>\n",
       "      <td>sql</td>\n",
       "      <td>1: If Excel SQL is required 0: Otherwise</td>\n",
       "    </tr>\n",
       "    <tr>\n",
       "      <th>27</th>\n",
       "      <td>sas</td>\n",
       "      <td>1: If SAS skill is required 0: Otherwise</td>\n",
       "    </tr>\n",
       "    <tr>\n",
       "      <th>28</th>\n",
       "      <td>keras</td>\n",
       "      <td>1: If Keras skill is required 0: Otherwise</td>\n",
       "    </tr>\n",
       "    <tr>\n",
       "      <th>29</th>\n",
       "      <td>pytorch</td>\n",
       "      <td>1: If Pytorch skill is required 0: Otherwise</td>\n",
       "    </tr>\n",
       "    <tr>\n",
       "      <th>30</th>\n",
       "      <td>scikit</td>\n",
       "      <td>1: If Scikit skill is required 0: Otherwise</td>\n",
       "    </tr>\n",
       "    <tr>\n",
       "      <th>31</th>\n",
       "      <td>tensor</td>\n",
       "      <td>1: If Tensor skill is required 0: Otherwise</td>\n",
       "    </tr>\n",
       "    <tr>\n",
       "      <th>32</th>\n",
       "      <td>hadoop</td>\n",
       "      <td>1: If Hadoop skill is required 0: Otherwise</td>\n",
       "    </tr>\n",
       "    <tr>\n",
       "      <th>33</th>\n",
       "      <td>tableau</td>\n",
       "      <td>1: If Tableau skill is required 0: Otherwise</td>\n",
       "    </tr>\n",
       "    <tr>\n",
       "      <th>34</th>\n",
       "      <td>bi</td>\n",
       "      <td>1: If PowerBi skill is required 0: Otherwise</td>\n",
       "    </tr>\n",
       "    <tr>\n",
       "      <th>35</th>\n",
       "      <td>flink</td>\n",
       "      <td>1: If Flink skill is required 0: Otherwise</td>\n",
       "    </tr>\n",
       "    <tr>\n",
       "      <th>36</th>\n",
       "      <td>mongo</td>\n",
       "      <td>1: If MangoDB skill is required 0: Otherwise</td>\n",
       "    </tr>\n",
       "    <tr>\n",
       "      <th>37</th>\n",
       "      <td>google_an</td>\n",
       "      <td>1: If Google analytics certificate is required 0: Otherwise</td>\n",
       "    </tr>\n",
       "    <tr>\n",
       "      <th>38</th>\n",
       "      <td>seniority_by_title</td>\n",
       "      <td>Seniority in title</td>\n",
       "    </tr>\n",
       "    <tr>\n",
       "      <th>39</th>\n",
       "      <td>Degree</td>\n",
       "      <td>M: If the job title requires it or provide experience years for having it. P: If the job title requires it or provide experience years for having it.</td>\n",
       "    </tr>\n",
       "  </tbody>\n",
       "</table>\n",
       "</div>"
      ],
      "text/plain": [
       "               Columns  \\\n",
       "0                Index   \n",
       "1            Job Title   \n",
       "2      Salary Estimate   \n",
       "3      Job Description   \n",
       "4               Rating   \n",
       "5         Company Name   \n",
       "6             Location   \n",
       "7         Headquarters   \n",
       "8                 Size   \n",
       "9              Founded   \n",
       "10   Type of ownership   \n",
       "11              Sector   \n",
       "12             Revenue   \n",
       "13         Competitors   \n",
       "14              Hourly   \n",
       "15   Employer provided   \n",
       "16        Lower Salary   \n",
       "17        Upper Salary   \n",
       "18       Avg Salary(K)   \n",
       "19         company_txt   \n",
       "20        Job Location   \n",
       "21                 Age   \n",
       "22              Python   \n",
       "23               spark   \n",
       "24                 aws   \n",
       "25               excel   \n",
       "26                 sql   \n",
       "27                 sas   \n",
       "28               keras   \n",
       "29             pytorch   \n",
       "30              scikit   \n",
       "31              tensor   \n",
       "32              hadoop   \n",
       "33             tableau   \n",
       "34                  bi   \n",
       "35               flink   \n",
       "36               mongo   \n",
       "37           google_an   \n",
       "38  seniority_by_title   \n",
       "39              Degree   \n",
       "\n",
       "                                                                                                                                              description  \n",
       "0                                                                                                                                                      id  \n",
       "1                                                                                                                                        The title of job  \n",
       "2                                                                                                                          Range of salary and the source  \n",
       "3                                                                     Tells us what qualities that company want and what is expected out of the job title  \n",
       "4                                                                                                                                   rating of the company  \n",
       "5                                                                                                                                     Name of the company  \n",
       "6                                                                                                                                     Location of the job  \n",
       "7                                                                                                                  Location of headquarter of the company  \n",
       "8                                                                                                      Range of number of employee working in the company  \n",
       "9                                                                                                                                 Company founded in year  \n",
       "10                                                                                               Industry like IT industry or Pharmaceutical industry etc  \n",
       "11                                                                                                                          Sector in which company works  \n",
       "12                                                                                                                 Total revennue of the company per year  \n",
       "13                                                                                                                     Current competitors of the company  \n",
       "14                                                                                                 1: If salary was reported in hourly rate. 0: Otherwise  \n",
       "15                                                                                             1: If the salary was provided by the employer 0: Otherwise  \n",
       "16                                                                                           Minimum Salary reported for the job in a particular company.  \n",
       "17                                                                                           Maximum salary reported for the job in a particular company.  \n",
       "18                                                                                           Average salary reported for the job in a particular company.  \n",
       "19                                                                                                                   It contains the name of the company.  \n",
       "20                                                                                                                    Cleaned job location (State) column  \n",
       "21                                                                                                                            Age of the company (in yrs)  \n",
       "22                                                                                                            1: If Python skill is required 0: Otherwise  \n",
       "23                                                                                                             1: If Spark skill is required 0: Otherwise  \n",
       "24                                                                                                               1: If AWS skill is required 0: Otherwise  \n",
       "25                                                                                                             1: If Excel skill is required 0: Otherwise  \n",
       "26                                                                                                               1: If Excel SQL is required 0: Otherwise  \n",
       "27                                                                                                               1: If SAS skill is required 0: Otherwise  \n",
       "28                                                                                                             1: If Keras skill is required 0: Otherwise  \n",
       "29                                                                                                           1: If Pytorch skill is required 0: Otherwise  \n",
       "30                                                                                                            1: If Scikit skill is required 0: Otherwise  \n",
       "31                                                                                                            1: If Tensor skill is required 0: Otherwise  \n",
       "32                                                                                                            1: If Hadoop skill is required 0: Otherwise  \n",
       "33                                                                                                           1: If Tableau skill is required 0: Otherwise  \n",
       "34                                                                                                           1: If PowerBi skill is required 0: Otherwise  \n",
       "35                                                                                                             1: If Flink skill is required 0: Otherwise  \n",
       "36                                                                                                           1: If MangoDB skill is required 0: Otherwise  \n",
       "37                                                                                            1: If Google analytics certificate is required 0: Otherwise  \n",
       "38                                                                                                                                     Seniority in title  \n",
       "39  M: If the job title requires it or provide experience years for having it. P: If the job title requires it or provide experience years for having it.  "
      ]
     },
     "execution_count": 5,
     "metadata": {},
     "output_type": "execute_result"
    }
   ],
   "source": [
    "Salary_data_descript=pd.read_csv('Data_description/Data_salary_description.csv',sep=',')\n",
    "\n",
    "pd.set_option('display.max_colwidth',None)\n",
    "Salary_data_descript"
   ]
  },
  {
   "cell_type": "markdown",
   "metadata": {},
   "source": [
    "### Mỗi cột hiện đang có kiểu dữ liệu gì? "
   ]
  },
  {
   "cell_type": "code",
   "execution_count": 6,
   "metadata": {},
   "outputs": [
    {
     "data": {
      "text/plain": [
       "Job Title              object\n",
       "Salary Estimate        object\n",
       "Job Description        object\n",
       "Rating                float64\n",
       "Company Name           object\n",
       "Location               object\n",
       "Headquarters           object\n",
       "Size                   object\n",
       "Founded                 int64\n",
       "Type of ownership      object\n",
       "Industry               object\n",
       "Sector                 object\n",
       "Revenue                object\n",
       "Competitors            object\n",
       "Hourly                  int64\n",
       "Employer provided       int64\n",
       "Lower Salary            int64\n",
       "Upper Salary            int64\n",
       "Avg Salary(K)         float64\n",
       "company_txt            object\n",
       "Job Location           object\n",
       "Age                     int64\n",
       "Python                  int64\n",
       "spark                   int64\n",
       "aws                     int64\n",
       "excel                   int64\n",
       "sql                     int64\n",
       "sas                     int64\n",
       "keras                   int64\n",
       "pytorch                 int64\n",
       "scikit                  int64\n",
       "tensor                  int64\n",
       "hadoop                  int64\n",
       "tableau                 int64\n",
       "bi                      int64\n",
       "flink                   int64\n",
       "mongo                   int64\n",
       "google_an               int64\n",
       "job_title_sim          object\n",
       "seniority_by_title     object\n",
       "Degree                 object\n",
       "dtype: object"
      ]
     },
     "execution_count": 6,
     "metadata": {},
     "output_type": "execute_result"
    }
   ],
   "source": [
    "project_dataframe.dtypes"
   ]
  },
  {
   "cell_type": "markdown",
   "metadata": {},
   "source": [
    "Các cột dữ liệu đang có type là \"Object\", kiểm tra các kiểu dữ liệu tồn tại trong nội bộ các cột."
   ]
  },
  {
   "cell_type": "code",
   "execution_count": 7,
   "metadata": {
    "scrolled": false
   },
   "outputs": [
    {
     "name": "stdout",
     "output_type": "stream",
     "text": [
      "dtype of  Job Title  : {<class 'str'>}\n",
      "dtype of  Salary Estimate  : {<class 'str'>}\n",
      "dtype of  Job Description  : {<class 'str'>}\n",
      "dtype of  Rating  : {<class 'float'>}\n",
      "dtype of  Company Name  : {<class 'str'>}\n",
      "dtype of  Location  : {<class 'str'>}\n",
      "dtype of  Headquarters  : {<class 'str'>}\n",
      "dtype of  Size  : {<class 'str'>}\n",
      "dtype of  Founded  : {<class 'int'>}\n",
      "dtype of  Type of ownership  : {<class 'str'>}\n",
      "dtype of  Industry  : {<class 'str'>}\n",
      "dtype of  Sector  : {<class 'str'>}\n",
      "dtype of  Revenue  : {<class 'str'>}\n",
      "dtype of  Competitors  : {<class 'str'>}\n",
      "dtype of  Hourly  : {<class 'int'>}\n",
      "dtype of  Employer provided  : {<class 'int'>}\n",
      "dtype of  Lower Salary  : {<class 'int'>}\n",
      "dtype of  Upper Salary  : {<class 'int'>}\n",
      "dtype of  Avg Salary(K)  : {<class 'float'>}\n",
      "dtype of  company_txt  : {<class 'str'>}\n",
      "dtype of  Job Location  : {<class 'str'>}\n",
      "dtype of  Age  : {<class 'int'>}\n",
      "dtype of  Python  : {<class 'int'>}\n",
      "dtype of  spark  : {<class 'int'>}\n",
      "dtype of  aws  : {<class 'int'>}\n",
      "dtype of  excel  : {<class 'int'>}\n",
      "dtype of  sql  : {<class 'int'>}\n",
      "dtype of  sas  : {<class 'int'>}\n",
      "dtype of  keras  : {<class 'int'>}\n",
      "dtype of  pytorch  : {<class 'int'>}\n",
      "dtype of  scikit  : {<class 'int'>}\n",
      "dtype of  tensor  : {<class 'int'>}\n",
      "dtype of  hadoop  : {<class 'int'>}\n",
      "dtype of  tableau  : {<class 'int'>}\n",
      "dtype of  bi  : {<class 'int'>}\n",
      "dtype of  flink  : {<class 'int'>}\n",
      "dtype of  mongo  : {<class 'int'>}\n",
      "dtype of  google_an  : {<class 'int'>}\n",
      "dtype of  job_title_sim  : {<class 'str'>}\n",
      "dtype of  seniority_by_title  : {<class 'str'>}\n",
      "dtype of  Degree  : {<class 'str'>}\n"
     ]
    }
   ],
   "source": [
    "def type_(value):\n",
    "    return type(value)\n",
    "def check_type(s):\n",
    "    dtypes = set()\n",
    "    h=s.apply(type_)\n",
    "    dtypes=set(h)\n",
    "    return dtypes\n",
    "col_name=project_dataframe.columns\n",
    "\n",
    "df_Types=[]\n",
    "for i in col_name:\n",
    "    df_Types.append(check_type(project_dataframe[i]))\n",
    "for i in range(len(col_name)):\n",
    "    print(\"dtype of \",col_name[i],\" :\",df_Types[i])"
   ]
  },
  {
   "cell_type": "markdown",
   "metadata": {},
   "source": [
    "Nhìn chung thì các cột chỉ có duy nhất một kiểu dữ liệu. "
   ]
  },
  {
   "cell_type": "markdown",
   "metadata": {},
   "source": [
    "### Có cột nào có kiểu dữ liệu chưa phù hợp để có thể xử lý tiếp không?\n",
    "\n"
   ]
  },
  {
   "cell_type": "markdown",
   "metadata": {},
   "source": [
    "Suy nghĩ: \n",
    "* Có một số cột chưa phù hợp hoặc cần thiết cho việc tính toán, ta có thể xử lý dữ liệu trong quá trình trả lời câu hỏi.\n",
    "* Cột \"Salary Estimate\" khá quan trọng nhưng nó chưa có dạng dữ liệu phù hợp, nó có ý nghĩa là giá trị lương trong một khoảng nào đó. \n",
    "* Trong đồ án này, ta sẽ thực hiện 2 việc với cột này:\n",
    "   + Tạo 1 cột \"avarage salary\" lưu giữ giá trị lương trung bình\n",
    "   + Đưa cột \"Salary Estimate\" về 1 array có dạng \\[min_salary, max_salary\\] để dùng cho việc trả lời câu hỏi sau này"
   ]
  },
  {
   "cell_type": "markdown",
   "metadata": {},
   "source": [
    "1. Đưa cột \"Salary Estimate\" về 1 array có dạng \\[min_salary, max_salary\\]"
   ]
  },
  {
   "cell_type": "code",
   "execution_count": 8,
   "metadata": {},
   "outputs": [],
   "source": [
    "character_remove=[\"Glassdoor est.\",\"K\",\"−\"]\n",
    "\n",
    "\n",
    "#chỉ lấy khoảng giá trị, bỏ nguồn  ví dụ  [$53K-$91K , Glassdoor est.)]  bỏ  Glassdoor est.)\n",
    "project_dataframe['Salary Estimate']=project_dataframe['Salary Estimate'].str.split(\" \").str[0]   #.str[0]\n",
    "\n",
    "\n",
    "\n",
    "project_dataframe['Salary Estimate']=project_dataframe['Salary Estimate'].str.replace(\"K\",'',regex= False) \n",
    "project_dataframe['Salary Estimate']=project_dataframe['Salary Estimate'].str.replace(\"-\",',',regex=False)\n",
    "project_dataframe['Salary Estimate']=project_dataframe['Salary Estimate'].str.replace(\"$\",'',regex=False)\n",
    "\n",
    "\n",
    "\n",
    "def change_narray(s):\n",
    "    s=s.split(\",\")\n",
    "    try:     \n",
    "        s=np.array(s,dtype=float)\n",
    "     # có 1 số dòng là ngoại lệ nên không thể xử lý được theo cách trên, \n",
    "    #  ta gán giá trị bằng 0 và loại bỏ các dòng này ra khỏi dữ liệu\n",
    "    except ValueError:  \n",
    "        s=np.nan\n",
    "    return s\n",
    "\n",
    "project_dataframe['Salary Estimate']=project_dataframe['Salary Estimate'].apply(change_narray)\n",
    "\n",
    "\n",
    "\n",
    "# #loại bỏ các dòng =0\n",
    "index_removed=project_dataframe['Salary Estimate'][project_dataframe['Salary Estimate'].isna()==True].index\n",
    "\n",
    "project_dataframe=project_dataframe.drop(index_removed)"
   ]
  },
  {
   "cell_type": "markdown",
   "metadata": {},
   "source": [
    "Sau khi xử lý, cột \"salary estimate\" đang giữ khoảng lương [min,max]"
   ]
  },
  {
   "cell_type": "markdown",
   "metadata": {},
   "source": [
    "2. Tạo 1 cột \"avarage salary\" lưu giữ giá trị lương trung bình"
   ]
  },
  {
   "cell_type": "code",
   "execution_count": 9,
   "metadata": {},
   "outputs": [],
   "source": [
    "def avarage_salary(s):\n",
    "    return s[0]/2 + s[1]/2\n",
    "project_dataframe['Avarage salary']=project_dataframe['Salary Estimate'].apply(avarage_salary)"
   ]
  },
  {
   "cell_type": "markdown",
   "metadata": {},
   "source": [
    "Theo như mô tả của file dữ liệu thì:\n",
    "> Salary Estimate: Range of salary and the source\n",
    "\n",
    "> Avg Salary(K): Average salary reported for the job in a particular company.\n",
    "\n",
    "Nhóm có tính thêm cột \"Avarage salary\" là trung bình của cột \"Salary Estimate\" (lấy hai con số trong cột này cộng lại rồi chia trung bình)"
   ]
  },
  {
   "cell_type": "code",
   "execution_count": 10,
   "metadata": {},
   "outputs": [
    {
     "data": {
      "text/plain": [
       "False"
      ]
     },
     "execution_count": 10,
     "metadata": {},
     "output_type": "execute_result"
    }
   ],
   "source": [
    "# So sánh hai cột \"Avarage salary\" và \"Avg Salary(K)\"\n",
    "s = project_dataframe['Avarage salary'] == project_dataframe[\"Avg Salary(K)\"]\n",
    "s.all()"
   ]
  },
  {
   "cell_type": "code",
   "execution_count": 11,
   "metadata": {},
   "outputs": [
    {
     "data": {
      "text/html": [
       "<div>\n",
       "<style scoped>\n",
       "    .dataframe tbody tr th:only-of-type {\n",
       "        vertical-align: middle;\n",
       "    }\n",
       "\n",
       "    .dataframe tbody tr th {\n",
       "        vertical-align: top;\n",
       "    }\n",
       "\n",
       "    .dataframe thead th {\n",
       "        text-align: right;\n",
       "    }\n",
       "</style>\n",
       "<table border=\"1\" class=\"dataframe\">\n",
       "  <thead>\n",
       "    <tr style=\"text-align: right;\">\n",
       "      <th></th>\n",
       "      <th>Salary Estimate</th>\n",
       "      <th>Avarage salary</th>\n",
       "      <th>Avg Salary(K)</th>\n",
       "      <th>Lower Salary</th>\n",
       "      <th>Upper Salary</th>\n",
       "    </tr>\n",
       "    <tr>\n",
       "      <th>index</th>\n",
       "      <th></th>\n",
       "      <th></th>\n",
       "      <th></th>\n",
       "      <th></th>\n",
       "      <th></th>\n",
       "    </tr>\n",
       "  </thead>\n",
       "  <tbody>\n",
       "    <tr>\n",
       "      <th>197</th>\n",
       "      <td>[17.0, 24.0]</td>\n",
       "      <td>20.5</td>\n",
       "      <td>42.0</td>\n",
       "      <td>35</td>\n",
       "      <td>49</td>\n",
       "    </tr>\n",
       "    <tr>\n",
       "      <th>209</th>\n",
       "      <td>[21.0, 34.0]</td>\n",
       "      <td>27.5</td>\n",
       "      <td>56.5</td>\n",
       "      <td>43</td>\n",
       "      <td>70</td>\n",
       "    </tr>\n",
       "    <tr>\n",
       "      <th>240</th>\n",
       "      <td>[18.0, 25.0]</td>\n",
       "      <td>21.5</td>\n",
       "      <td>44.5</td>\n",
       "      <td>37</td>\n",
       "      <td>52</td>\n",
       "    </tr>\n",
       "    <tr>\n",
       "      <th>247</th>\n",
       "      <td>[21.0, 34.0]</td>\n",
       "      <td>27.5</td>\n",
       "      <td>56.5</td>\n",
       "      <td>43</td>\n",
       "      <td>70</td>\n",
       "    </tr>\n",
       "    <tr>\n",
       "      <th>257</th>\n",
       "      <td>[15.0, 25.0]</td>\n",
       "      <td>20.0</td>\n",
       "      <td>41.5</td>\n",
       "      <td>31</td>\n",
       "      <td>52</td>\n",
       "    </tr>\n",
       "    <tr>\n",
       "      <th>437</th>\n",
       "      <td>[24.0, 39.0]</td>\n",
       "      <td>31.5</td>\n",
       "      <td>65.0</td>\n",
       "      <td>49</td>\n",
       "      <td>81</td>\n",
       "    </tr>\n",
       "    <tr>\n",
       "      <th>522</th>\n",
       "      <td>[21.0, 29.0]</td>\n",
       "      <td>25.0</td>\n",
       "      <td>51.5</td>\n",
       "      <td>43</td>\n",
       "      <td>60</td>\n",
       "    </tr>\n",
       "    <tr>\n",
       "      <th>523</th>\n",
       "      <td>[10.0, 17.0]</td>\n",
       "      <td>13.5</td>\n",
       "      <td>27.5</td>\n",
       "      <td>20</td>\n",
       "      <td>35</td>\n",
       "    </tr>\n",
       "    <tr>\n",
       "      <th>823</th>\n",
       "      <td>[27.0, 47.0]</td>\n",
       "      <td>37.0</td>\n",
       "      <td>76.5</td>\n",
       "      <td>56</td>\n",
       "      <td>97</td>\n",
       "    </tr>\n",
       "  </tbody>\n",
       "</table>\n",
       "</div>"
      ],
      "text/plain": [
       "      Salary Estimate  Avarage salary  Avg Salary(K)  Lower Salary  \\\n",
       "index                                                                \n",
       "197      [17.0, 24.0]            20.5           42.0            35   \n",
       "209      [21.0, 34.0]            27.5           56.5            43   \n",
       "240      [18.0, 25.0]            21.5           44.5            37   \n",
       "247      [21.0, 34.0]            27.5           56.5            43   \n",
       "257      [15.0, 25.0]            20.0           41.5            31   \n",
       "437      [24.0, 39.0]            31.5           65.0            49   \n",
       "522      [21.0, 29.0]            25.0           51.5            43   \n",
       "523      [10.0, 17.0]            13.5           27.5            20   \n",
       "823      [27.0, 47.0]            37.0           76.5            56   \n",
       "\n",
       "       Upper Salary  \n",
       "index                \n",
       "197              49  \n",
       "209              70  \n",
       "240              52  \n",
       "247              70  \n",
       "257              52  \n",
       "437              81  \n",
       "522              60  \n",
       "523              35  \n",
       "823              97  "
      ]
     },
     "execution_count": 11,
     "metadata": {},
     "output_type": "execute_result"
    }
   ],
   "source": [
    "# Có vài dòng trong hai cột này không có giá trị giống nhau.\n",
    "project_dataframe[s == False][[\"Salary Estimate\",\"Avarage salary\",\"Avg Salary(K)\",\"Lower Salary\",\"Upper Salary\"]]"
   ]
  },
  {
   "cell_type": "markdown",
   "metadata": {},
   "source": [
    "### Loại bỏ các cột không sử dụng đến"
   ]
  },
  {
   "cell_type": "markdown",
   "metadata": {},
   "source": [
    "Nhóm sẽ bỏ đi một vài cột không cần thiết như: ```Job Description```, ```Company Name```,```Job Location```, ```Age```, ```Competitors```,```Hourly```,```Employer provided```."
   ]
  },
  {
   "cell_type": "code",
   "execution_count": 12,
   "metadata": {},
   "outputs": [
    {
     "data": {
      "text/html": [
       "<div>\n",
       "<style scoped>\n",
       "    .dataframe tbody tr th:only-of-type {\n",
       "        vertical-align: middle;\n",
       "    }\n",
       "\n",
       "    .dataframe tbody tr th {\n",
       "        vertical-align: top;\n",
       "    }\n",
       "\n",
       "    .dataframe thead th {\n",
       "        text-align: right;\n",
       "    }\n",
       "</style>\n",
       "<table border=\"1\" class=\"dataframe\">\n",
       "  <thead>\n",
       "    <tr style=\"text-align: right;\">\n",
       "      <th></th>\n",
       "      <th>Job Title</th>\n",
       "      <th>Salary Estimate</th>\n",
       "      <th>Rating</th>\n",
       "      <th>Location</th>\n",
       "      <th>Headquarters</th>\n",
       "      <th>Size</th>\n",
       "      <th>Founded</th>\n",
       "      <th>Type of ownership</th>\n",
       "      <th>Industry</th>\n",
       "      <th>Sector</th>\n",
       "      <th>...</th>\n",
       "      <th>hadoop</th>\n",
       "      <th>tableau</th>\n",
       "      <th>bi</th>\n",
       "      <th>flink</th>\n",
       "      <th>mongo</th>\n",
       "      <th>google_an</th>\n",
       "      <th>job_title_sim</th>\n",
       "      <th>seniority_by_title</th>\n",
       "      <th>Degree</th>\n",
       "      <th>Avarage salary</th>\n",
       "    </tr>\n",
       "    <tr>\n",
       "      <th>index</th>\n",
       "      <th></th>\n",
       "      <th></th>\n",
       "      <th></th>\n",
       "      <th></th>\n",
       "      <th></th>\n",
       "      <th></th>\n",
       "      <th></th>\n",
       "      <th></th>\n",
       "      <th></th>\n",
       "      <th></th>\n",
       "      <th></th>\n",
       "      <th></th>\n",
       "      <th></th>\n",
       "      <th></th>\n",
       "      <th></th>\n",
       "      <th></th>\n",
       "      <th></th>\n",
       "      <th></th>\n",
       "      <th></th>\n",
       "      <th></th>\n",
       "      <th></th>\n",
       "    </tr>\n",
       "  </thead>\n",
       "  <tbody>\n",
       "    <tr>\n",
       "      <th>0</th>\n",
       "      <td>Data Scientist</td>\n",
       "      <td>[53.0, 91.0]</td>\n",
       "      <td>3.8</td>\n",
       "      <td>Albuquerque, NM</td>\n",
       "      <td>Goleta, CA</td>\n",
       "      <td>501 - 1000</td>\n",
       "      <td>1973</td>\n",
       "      <td>Company - Private</td>\n",
       "      <td>Aerospace &amp; Defense</td>\n",
       "      <td>Aerospace &amp; Defense</td>\n",
       "      <td>...</td>\n",
       "      <td>0</td>\n",
       "      <td>1</td>\n",
       "      <td>1</td>\n",
       "      <td>0</td>\n",
       "      <td>0</td>\n",
       "      <td>0</td>\n",
       "      <td>data scientist</td>\n",
       "      <td>na</td>\n",
       "      <td>M</td>\n",
       "      <td>72.0</td>\n",
       "    </tr>\n",
       "    <tr>\n",
       "      <th>1</th>\n",
       "      <td>Healthcare Data Scientist</td>\n",
       "      <td>[63.0, 112.0]</td>\n",
       "      <td>3.4</td>\n",
       "      <td>Linthicum, MD</td>\n",
       "      <td>Baltimore, MD</td>\n",
       "      <td>10000+</td>\n",
       "      <td>1984</td>\n",
       "      <td>Other Organization</td>\n",
       "      <td>Health Care Services &amp; Hospitals</td>\n",
       "      <td>Health Care</td>\n",
       "      <td>...</td>\n",
       "      <td>0</td>\n",
       "      <td>0</td>\n",
       "      <td>0</td>\n",
       "      <td>0</td>\n",
       "      <td>0</td>\n",
       "      <td>0</td>\n",
       "      <td>data scientist</td>\n",
       "      <td>na</td>\n",
       "      <td>M</td>\n",
       "      <td>87.5</td>\n",
       "    </tr>\n",
       "    <tr>\n",
       "      <th>2</th>\n",
       "      <td>Data Scientist</td>\n",
       "      <td>[80.0, 90.0]</td>\n",
       "      <td>4.8</td>\n",
       "      <td>Clearwater, FL</td>\n",
       "      <td>Clearwater, FL</td>\n",
       "      <td>501 - 1000</td>\n",
       "      <td>2010</td>\n",
       "      <td>Company - Private</td>\n",
       "      <td>Security Services</td>\n",
       "      <td>Business Services</td>\n",
       "      <td>...</td>\n",
       "      <td>0</td>\n",
       "      <td>0</td>\n",
       "      <td>0</td>\n",
       "      <td>0</td>\n",
       "      <td>0</td>\n",
       "      <td>0</td>\n",
       "      <td>data scientist</td>\n",
       "      <td>na</td>\n",
       "      <td>M</td>\n",
       "      <td>85.0</td>\n",
       "    </tr>\n",
       "    <tr>\n",
       "      <th>3</th>\n",
       "      <td>Data Scientist</td>\n",
       "      <td>[56.0, 97.0]</td>\n",
       "      <td>3.8</td>\n",
       "      <td>Richland, WA</td>\n",
       "      <td>Richland, WA</td>\n",
       "      <td>1001 - 5000</td>\n",
       "      <td>1965</td>\n",
       "      <td>Government</td>\n",
       "      <td>Energy</td>\n",
       "      <td>Oil, Gas, Energy &amp; Utilities</td>\n",
       "      <td>...</td>\n",
       "      <td>0</td>\n",
       "      <td>0</td>\n",
       "      <td>0</td>\n",
       "      <td>0</td>\n",
       "      <td>0</td>\n",
       "      <td>0</td>\n",
       "      <td>data scientist</td>\n",
       "      <td>na</td>\n",
       "      <td>na</td>\n",
       "      <td>76.5</td>\n",
       "    </tr>\n",
       "    <tr>\n",
       "      <th>4</th>\n",
       "      <td>Data Scientist</td>\n",
       "      <td>[86.0, 143.0]</td>\n",
       "      <td>2.9</td>\n",
       "      <td>New York, NY</td>\n",
       "      <td>New York, NY</td>\n",
       "      <td>51 - 200</td>\n",
       "      <td>1998</td>\n",
       "      <td>Company - Private</td>\n",
       "      <td>Advertising &amp; Marketing</td>\n",
       "      <td>Business Services</td>\n",
       "      <td>...</td>\n",
       "      <td>0</td>\n",
       "      <td>0</td>\n",
       "      <td>0</td>\n",
       "      <td>0</td>\n",
       "      <td>0</td>\n",
       "      <td>0</td>\n",
       "      <td>data scientist</td>\n",
       "      <td>na</td>\n",
       "      <td>na</td>\n",
       "      <td>114.5</td>\n",
       "    </tr>\n",
       "  </tbody>\n",
       "</table>\n",
       "<p>5 rows × 35 columns</p>\n",
       "</div>"
      ],
      "text/plain": [
       "                       Job Title Salary Estimate  Rating         Location  \\\n",
       "index                                                                       \n",
       "0                 Data Scientist    [53.0, 91.0]     3.8  Albuquerque, NM   \n",
       "1      Healthcare Data Scientist   [63.0, 112.0]     3.4    Linthicum, MD   \n",
       "2                 Data Scientist    [80.0, 90.0]     4.8   Clearwater, FL   \n",
       "3                 Data Scientist    [56.0, 97.0]     3.8     Richland, WA   \n",
       "4                 Data Scientist   [86.0, 143.0]     2.9     New York, NY   \n",
       "\n",
       "         Headquarters          Size  Founded   Type of ownership  \\\n",
       "index                                                              \n",
       "0          Goleta, CA   501 - 1000      1973   Company - Private   \n",
       "1       Baltimore, MD       10000+      1984  Other Organization   \n",
       "2      Clearwater, FL   501 - 1000      2010   Company - Private   \n",
       "3        Richland, WA  1001 - 5000      1965          Government   \n",
       "4        New York, NY     51 - 200      1998   Company - Private   \n",
       "\n",
       "                               Industry                        Sector  ...  \\\n",
       "index                                                                  ...   \n",
       "0                   Aerospace & Defense           Aerospace & Defense  ...   \n",
       "1      Health Care Services & Hospitals                   Health Care  ...   \n",
       "2                     Security Services             Business Services  ...   \n",
       "3                                Energy  Oil, Gas, Energy & Utilities  ...   \n",
       "4               Advertising & Marketing             Business Services  ...   \n",
       "\n",
       "      hadoop  tableau  bi  flink mongo  google_an   job_title_sim  \\\n",
       "index                                                               \n",
       "0          0        1   1      0     0          0  data scientist   \n",
       "1          0        0   0      0     0          0  data scientist   \n",
       "2          0        0   0      0     0          0  data scientist   \n",
       "3          0        0   0      0     0          0  data scientist   \n",
       "4          0        0   0      0     0          0  data scientist   \n",
       "\n",
       "       seniority_by_title  Degree  Avarage salary  \n",
       "index                                              \n",
       "0                      na       M            72.0  \n",
       "1                      na       M            87.5  \n",
       "2                      na       M            85.0  \n",
       "3                      na      na            76.5  \n",
       "4                      na      na           114.5  \n",
       "\n",
       "[5 rows x 35 columns]"
      ]
     },
     "execution_count": 12,
     "metadata": {},
     "output_type": "execute_result"
    }
   ],
   "source": [
    "project_dataframe.drop(['Job Description','Company Name','Competitors','Employer provided','Hourly',\\\n",
    "            'Job Location','Age']\\\n",
    "            ,axis=1, inplace=True)\n",
    "project_dataframe.head()"
   ]
  },
  {
   "cell_type": "markdown",
   "metadata": {},
   "source": [
    "### Với mỗi cột có kiểu dữ liệu dạng số (numerical), các giá trị được phân bố như thế nào?\n"
   ]
  },
  {
   "cell_type": "markdown",
   "metadata": {},
   "source": [
    "• Min? max? \n",
    "\n",
    "→ Có gì bất thường không?"
   ]
  },
  {
   "cell_type": "code",
   "execution_count": 13,
   "metadata": {},
   "outputs": [],
   "source": [
    "# những cột dữ liệu dạng số thuần túy\n",
    "num_col_profile = project_dataframe[['Rating','Lower Salary','Upper Salary','Avg Salary(K)']]\n",
    "\n",
    "# những cột dữ liệu yêu cầu kỹ năng này cho công việc (1 là cần, 0 là không cần thiết cho công việc)\n",
    "skill_col_profile = project_dataframe[['Python','spark','aws','excel','sql','sas','keras','pytorch','scikit','tensor',\\\n",
    "                            'hadoop','tableau','bi','flink','mongo','google_an']]"
   ]
  },
  {
   "cell_type": "code",
   "execution_count": 14,
   "metadata": {},
   "outputs": [
    {
     "data": {
      "text/html": [
       "<div>\n",
       "<style scoped>\n",
       "    .dataframe tbody tr th:only-of-type {\n",
       "        vertical-align: middle;\n",
       "    }\n",
       "\n",
       "    .dataframe tbody tr th {\n",
       "        vertical-align: top;\n",
       "    }\n",
       "\n",
       "    .dataframe thead th {\n",
       "        text-align: right;\n",
       "    }\n",
       "</style>\n",
       "<table border=\"1\" class=\"dataframe\">\n",
       "  <thead>\n",
       "    <tr style=\"text-align: right;\">\n",
       "      <th></th>\n",
       "      <th>Rating</th>\n",
       "      <th>Lower Salary</th>\n",
       "      <th>Upper Salary</th>\n",
       "      <th>Avg Salary(K)</th>\n",
       "    </tr>\n",
       "  </thead>\n",
       "  <tbody>\n",
       "    <tr>\n",
       "      <th>count</th>\n",
       "      <td>450.000000</td>\n",
       "      <td>450.000000</td>\n",
       "      <td>450.000000</td>\n",
       "      <td>450.000000</td>\n",
       "    </tr>\n",
       "    <tr>\n",
       "      <th>mean</th>\n",
       "      <td>3.700444</td>\n",
       "      <td>73.333333</td>\n",
       "      <td>127.831111</td>\n",
       "      <td>100.582222</td>\n",
       "    </tr>\n",
       "    <tr>\n",
       "      <th>std</th>\n",
       "      <td>0.604917</td>\n",
       "      <td>27.980983</td>\n",
       "      <td>43.064802</td>\n",
       "      <td>35.150835</td>\n",
       "    </tr>\n",
       "    <tr>\n",
       "      <th>min</th>\n",
       "      <td>-1.000000</td>\n",
       "      <td>20.000000</td>\n",
       "      <td>35.000000</td>\n",
       "      <td>27.500000</td>\n",
       "    </tr>\n",
       "    <tr>\n",
       "      <th>25%</th>\n",
       "      <td>3.400000</td>\n",
       "      <td>53.000000</td>\n",
       "      <td>97.250000</td>\n",
       "      <td>75.625000</td>\n",
       "    </tr>\n",
       "    <tr>\n",
       "      <th>50%</th>\n",
       "      <td>3.700000</td>\n",
       "      <td>69.000000</td>\n",
       "      <td>124.000000</td>\n",
       "      <td>96.750000</td>\n",
       "    </tr>\n",
       "    <tr>\n",
       "      <th>75%</th>\n",
       "      <td>4.075000</td>\n",
       "      <td>87.750000</td>\n",
       "      <td>150.000000</td>\n",
       "      <td>120.875000</td>\n",
       "    </tr>\n",
       "    <tr>\n",
       "      <th>max</th>\n",
       "      <td>5.000000</td>\n",
       "      <td>202.000000</td>\n",
       "      <td>306.000000</td>\n",
       "      <td>254.000000</td>\n",
       "    </tr>\n",
       "  </tbody>\n",
       "</table>\n",
       "</div>"
      ],
      "text/plain": [
       "           Rating  Lower Salary  Upper Salary  Avg Salary(K)\n",
       "count  450.000000    450.000000    450.000000     450.000000\n",
       "mean     3.700444     73.333333    127.831111     100.582222\n",
       "std      0.604917     27.980983     43.064802      35.150835\n",
       "min     -1.000000     20.000000     35.000000      27.500000\n",
       "25%      3.400000     53.000000     97.250000      75.625000\n",
       "50%      3.700000     69.000000    124.000000      96.750000\n",
       "75%      4.075000     87.750000    150.000000     120.875000\n",
       "max      5.000000    202.000000    306.000000     254.000000"
      ]
     },
     "execution_count": 14,
     "metadata": {},
     "output_type": "execute_result"
    }
   ],
   "source": [
    "num_col_profile.describe()"
   ]
  },
  {
   "cell_type": "markdown",
   "metadata": {},
   "source": [
    "- Có bất thường tại min của cột rating (xem nguyên nhân và xử lý). Theo mô tả về tập dữ liệu, các giá trị thiếu được thay thế bằng -1, nhóm sẽ điền giá trị mean thay thế cho giá trị -1."
   ]
  },
  {
   "cell_type": "code",
   "execution_count": 15,
   "metadata": {
    "scrolled": true
   },
   "outputs": [
    {
     "data": {
      "text/html": [
       "<div>\n",
       "<style scoped>\n",
       "    .dataframe tbody tr th:only-of-type {\n",
       "        vertical-align: middle;\n",
       "    }\n",
       "\n",
       "    .dataframe tbody tr th {\n",
       "        vertical-align: top;\n",
       "    }\n",
       "\n",
       "    .dataframe thead th {\n",
       "        text-align: right;\n",
       "    }\n",
       "</style>\n",
       "<table border=\"1\" class=\"dataframe\">\n",
       "  <thead>\n",
       "    <tr style=\"text-align: right;\">\n",
       "      <th></th>\n",
       "      <th>Job Title</th>\n",
       "      <th>Salary Estimate</th>\n",
       "      <th>Rating</th>\n",
       "      <th>Location</th>\n",
       "      <th>Headquarters</th>\n",
       "      <th>Size</th>\n",
       "      <th>Founded</th>\n",
       "      <th>Type of ownership</th>\n",
       "      <th>Industry</th>\n",
       "      <th>Sector</th>\n",
       "      <th>...</th>\n",
       "      <th>hadoop</th>\n",
       "      <th>tableau</th>\n",
       "      <th>bi</th>\n",
       "      <th>flink</th>\n",
       "      <th>mongo</th>\n",
       "      <th>google_an</th>\n",
       "      <th>job_title_sim</th>\n",
       "      <th>seniority_by_title</th>\n",
       "      <th>Degree</th>\n",
       "      <th>Avarage salary</th>\n",
       "    </tr>\n",
       "    <tr>\n",
       "      <th>index</th>\n",
       "      <th></th>\n",
       "      <th></th>\n",
       "      <th></th>\n",
       "      <th></th>\n",
       "      <th></th>\n",
       "      <th></th>\n",
       "      <th></th>\n",
       "      <th></th>\n",
       "      <th></th>\n",
       "      <th></th>\n",
       "      <th></th>\n",
       "      <th></th>\n",
       "      <th></th>\n",
       "      <th></th>\n",
       "      <th></th>\n",
       "      <th></th>\n",
       "      <th></th>\n",
       "      <th></th>\n",
       "      <th></th>\n",
       "      <th></th>\n",
       "      <th></th>\n",
       "    </tr>\n",
       "  </thead>\n",
       "  <tbody>\n",
       "    <tr>\n",
       "      <th>583</th>\n",
       "      <td>Data Scientist</td>\n",
       "      <td>[81.0, 140.0]</td>\n",
       "      <td>-1.0</td>\n",
       "      <td>New York, NY</td>\n",
       "      <td>Noida, India</td>\n",
       "      <td>unknown</td>\n",
       "      <td>-1</td>\n",
       "      <td>Company - Private</td>\n",
       "      <td>-1</td>\n",
       "      <td>-1</td>\n",
       "      <td>...</td>\n",
       "      <td>0</td>\n",
       "      <td>0</td>\n",
       "      <td>0</td>\n",
       "      <td>0</td>\n",
       "      <td>0</td>\n",
       "      <td>0</td>\n",
       "      <td>data scientist</td>\n",
       "      <td>na</td>\n",
       "      <td>M</td>\n",
       "      <td>110.5</td>\n",
       "    </tr>\n",
       "  </tbody>\n",
       "</table>\n",
       "<p>1 rows × 35 columns</p>\n",
       "</div>"
      ],
      "text/plain": [
       "            Job Title Salary Estimate  Rating      Location  Headquarters  \\\n",
       "index                                                                       \n",
       "583    Data Scientist   [81.0, 140.0]    -1.0  New York, NY  Noida, India   \n",
       "\n",
       "          Size  Founded  Type of ownership Industry Sector  ... hadoop  \\\n",
       "index                                                       ...          \n",
       "583    unknown       -1  Company - Private       -1     -1  ...      0   \n",
       "\n",
       "       tableau  bi  flink mongo  google_an   job_title_sim  \\\n",
       "index                                                        \n",
       "583          0   0      0     0          0  data scientist   \n",
       "\n",
       "       seniority_by_title  Degree  Avarage salary  \n",
       "index                                              \n",
       "583                    na       M           110.5  \n",
       "\n",
       "[1 rows x 35 columns]"
      ]
     },
     "execution_count": 15,
     "metadata": {},
     "output_type": "execute_result"
    }
   ],
   "source": [
    "project_dataframe[project_dataframe[\"Rating\"] == -1]"
   ]
  },
  {
   "cell_type": "markdown",
   "metadata": {},
   "source": [
    "Chỉ có một dòng bị thiếu dữ liệu, nhóm sẽ thay thế giá trị bị thiếu bằng giá trị mean."
   ]
  },
  {
   "cell_type": "code",
   "execution_count": 16,
   "metadata": {},
   "outputs": [
    {
     "data": {
      "text/html": [
       "<div>\n",
       "<style scoped>\n",
       "    .dataframe tbody tr th:only-of-type {\n",
       "        vertical-align: middle;\n",
       "    }\n",
       "\n",
       "    .dataframe tbody tr th {\n",
       "        vertical-align: top;\n",
       "    }\n",
       "\n",
       "    .dataframe thead th {\n",
       "        text-align: right;\n",
       "    }\n",
       "</style>\n",
       "<table border=\"1\" class=\"dataframe\">\n",
       "  <thead>\n",
       "    <tr style=\"text-align: right;\">\n",
       "      <th></th>\n",
       "      <th>Rating</th>\n",
       "      <th>Lower Salary</th>\n",
       "      <th>Upper Salary</th>\n",
       "      <th>Avg Salary(K)</th>\n",
       "    </tr>\n",
       "  </thead>\n",
       "  <tbody>\n",
       "    <tr>\n",
       "      <th>count</th>\n",
       "      <td>450.000000</td>\n",
       "      <td>450.000000</td>\n",
       "      <td>450.000000</td>\n",
       "      <td>450.000000</td>\n",
       "    </tr>\n",
       "    <tr>\n",
       "      <th>mean</th>\n",
       "      <td>3.710889</td>\n",
       "      <td>73.333333</td>\n",
       "      <td>127.831111</td>\n",
       "      <td>100.582222</td>\n",
       "    </tr>\n",
       "    <tr>\n",
       "      <th>std</th>\n",
       "      <td>0.562679</td>\n",
       "      <td>27.980983</td>\n",
       "      <td>43.064802</td>\n",
       "      <td>35.150835</td>\n",
       "    </tr>\n",
       "    <tr>\n",
       "      <th>min</th>\n",
       "      <td>1.900000</td>\n",
       "      <td>20.000000</td>\n",
       "      <td>35.000000</td>\n",
       "      <td>27.500000</td>\n",
       "    </tr>\n",
       "    <tr>\n",
       "      <th>25%</th>\n",
       "      <td>3.400000</td>\n",
       "      <td>53.000000</td>\n",
       "      <td>97.250000</td>\n",
       "      <td>75.625000</td>\n",
       "    </tr>\n",
       "    <tr>\n",
       "      <th>50%</th>\n",
       "      <td>3.700000</td>\n",
       "      <td>69.000000</td>\n",
       "      <td>124.000000</td>\n",
       "      <td>96.750000</td>\n",
       "    </tr>\n",
       "    <tr>\n",
       "      <th>75%</th>\n",
       "      <td>4.075000</td>\n",
       "      <td>87.750000</td>\n",
       "      <td>150.000000</td>\n",
       "      <td>120.875000</td>\n",
       "    </tr>\n",
       "    <tr>\n",
       "      <th>max</th>\n",
       "      <td>5.000000</td>\n",
       "      <td>202.000000</td>\n",
       "      <td>306.000000</td>\n",
       "      <td>254.000000</td>\n",
       "    </tr>\n",
       "  </tbody>\n",
       "</table>\n",
       "</div>"
      ],
      "text/plain": [
       "           Rating  Lower Salary  Upper Salary  Avg Salary(K)\n",
       "count  450.000000    450.000000    450.000000     450.000000\n",
       "mean     3.710889     73.333333    127.831111     100.582222\n",
       "std      0.562679     27.980983     43.064802      35.150835\n",
       "min      1.900000     20.000000     35.000000      27.500000\n",
       "25%      3.400000     53.000000     97.250000      75.625000\n",
       "50%      3.700000     69.000000    124.000000      96.750000\n",
       "75%      4.075000     87.750000    150.000000     120.875000\n",
       "max      5.000000    202.000000    306.000000     254.000000"
      ]
     },
     "execution_count": 16,
     "metadata": {},
     "output_type": "execute_result"
    }
   ],
   "source": [
    "pd.options.mode.chained_assignment = None # default='warn'\n",
    "\n",
    "index_replace=num_col_profile[\"Rating\"][num_col_profile[\"Rating\"]==-1].index\n",
    "\n",
    "num_col_profile.loc[index_replace,\"Rating\"]=3.7\n",
    "num_col_profile.describe()"
   ]
  },
  {
   "cell_type": "markdown",
   "metadata": {},
   "source": [
    "• Số-lượng/tỉ-lệ các giá trị thiếu?"
   ]
  },
  {
   "cell_type": "code",
   "execution_count": 17,
   "metadata": {},
   "outputs": [
    {
     "name": "stdout",
     "output_type": "stream",
     "text": [
      "{ Rating :  0.0 }\n",
      "{ Lower Salary :  0.0 }\n",
      "{ Upper Salary :  0.0 }\n",
      "{ Avg Salary(K) :  0.0 }\n",
      "{ Python :  0.0 }\n",
      "{ spark :  0.0 }\n",
      "{ aws :  0.0 }\n",
      "{ excel :  0.0 }\n",
      "{ sql :  0.0 }\n",
      "{ sas :  0.0 }\n",
      "{ keras :  0.0 }\n",
      "{ pytorch :  0.0 }\n",
      "{ scikit :  0.0 }\n",
      "{ tensor :  0.0 }\n",
      "{ hadoop :  0.0 }\n",
      "{ tableau :  0.0 }\n",
      "{ bi :  0.0 }\n",
      "{ flink :  0.0 }\n",
      "{ mongo :  0.0 }\n",
      "{ google_an :  0.0 }\n"
     ]
    }
   ],
   "source": [
    "# tỉ lệ các giá trị thiếu\n",
    "def missing_percent(s):\n",
    "    missing_count=  missing_count=s.isna().sum()\n",
    "    result=float(missing_count)/float(s.shape[0]) * float(100)\n",
    "    return result\n",
    "\n",
    "col_name=num_col_profile.columns\n",
    "missing_ratio=[]\n",
    "for i in col_name:\n",
    "    missing=missing_percent(project_dataframe[i])\n",
    "    print(\"{\", i, \": \",missing, \"}\")\n",
    "\n",
    "col_name=skill_col_profile.columns\n",
    "missing_ratio=[]\n",
    "for i in col_name:\n",
    "    missing=missing_percent(project_dataframe[i])\n",
    "    print(\"{\", i, \": \",missing, \"}\")"
   ]
  },
  {
   "cell_type": "code",
   "execution_count": 18,
   "metadata": {},
   "outputs": [
    {
     "data": {
      "text/html": [
       "<div>\n",
       "<style scoped>\n",
       "    .dataframe tbody tr th:only-of-type {\n",
       "        vertical-align: middle;\n",
       "    }\n",
       "\n",
       "    .dataframe tbody tr th {\n",
       "        vertical-align: top;\n",
       "    }\n",
       "\n",
       "    .dataframe thead tr th {\n",
       "        text-align: left;\n",
       "    }\n",
       "</style>\n",
       "<table border=\"1\" class=\"dataframe\">\n",
       "  <thead>\n",
       "    <tr>\n",
       "      <th></th>\n",
       "      <th>Python</th>\n",
       "      <th>spark</th>\n",
       "      <th>aws</th>\n",
       "      <th>excel</th>\n",
       "      <th>sql</th>\n",
       "      <th>sas</th>\n",
       "      <th>keras</th>\n",
       "      <th>pytorch</th>\n",
       "      <th>scikit</th>\n",
       "      <th>tensor</th>\n",
       "      <th>hadoop</th>\n",
       "      <th>tableau</th>\n",
       "      <th>bi</th>\n",
       "      <th>flink</th>\n",
       "      <th>mongo</th>\n",
       "      <th>google_an</th>\n",
       "    </tr>\n",
       "    <tr>\n",
       "      <th></th>\n",
       "      <th>value_counts</th>\n",
       "      <th>value_counts</th>\n",
       "      <th>value_counts</th>\n",
       "      <th>value_counts</th>\n",
       "      <th>value_counts</th>\n",
       "      <th>value_counts</th>\n",
       "      <th>value_counts</th>\n",
       "      <th>value_counts</th>\n",
       "      <th>value_counts</th>\n",
       "      <th>value_counts</th>\n",
       "      <th>value_counts</th>\n",
       "      <th>value_counts</th>\n",
       "      <th>value_counts</th>\n",
       "      <th>value_counts</th>\n",
       "      <th>value_counts</th>\n",
       "      <th>value_counts</th>\n",
       "    </tr>\n",
       "  </thead>\n",
       "  <tbody>\n",
       "    <tr>\n",
       "      <th>0</th>\n",
       "      <td>197</td>\n",
       "      <td>342</td>\n",
       "      <td>343</td>\n",
       "      <td>211</td>\n",
       "      <td>200</td>\n",
       "      <td>408</td>\n",
       "      <td>432</td>\n",
       "      <td>427</td>\n",
       "      <td>415</td>\n",
       "      <td>403</td>\n",
       "      <td>371</td>\n",
       "      <td>354</td>\n",
       "      <td>412</td>\n",
       "      <td>442</td>\n",
       "      <td>427</td>\n",
       "      <td>442</td>\n",
       "    </tr>\n",
       "    <tr>\n",
       "      <th>1</th>\n",
       "      <td>253</td>\n",
       "      <td>108</td>\n",
       "      <td>107</td>\n",
       "      <td>239</td>\n",
       "      <td>250</td>\n",
       "      <td>42</td>\n",
       "      <td>18</td>\n",
       "      <td>23</td>\n",
       "      <td>35</td>\n",
       "      <td>47</td>\n",
       "      <td>79</td>\n",
       "      <td>96</td>\n",
       "      <td>38</td>\n",
       "      <td>8</td>\n",
       "      <td>23</td>\n",
       "      <td>8</td>\n",
       "    </tr>\n",
       "  </tbody>\n",
       "</table>\n",
       "</div>"
      ],
      "text/plain": [
       "        Python        spark          aws        excel          sql  \\\n",
       "  value_counts value_counts value_counts value_counts value_counts   \n",
       "0          197          342          343          211          200   \n",
       "1          253          108          107          239          250   \n",
       "\n",
       "           sas        keras      pytorch       scikit       tensor  \\\n",
       "  value_counts value_counts value_counts value_counts value_counts   \n",
       "0          408          432          427          415          403   \n",
       "1           42           18           23           35           47   \n",
       "\n",
       "        hadoop      tableau           bi        flink        mongo  \\\n",
       "  value_counts value_counts value_counts value_counts value_counts   \n",
       "0          371          354          412          442          427   \n",
       "1           79           96           38            8           23   \n",
       "\n",
       "     google_an  \n",
       "  value_counts  \n",
       "0          442  \n",
       "1            8  "
      ]
     },
     "execution_count": 18,
     "metadata": {},
     "output_type": "execute_result"
    }
   ],
   "source": [
    "df = skill_col_profile.agg([pd.Series.value_counts],axis=0)\n",
    "df"
   ]
  },
  {
   "cell_type": "code",
   "execution_count": 19,
   "metadata": {},
   "outputs": [],
   "source": [
    "# Chuyển mỗi cột về dạng %\n",
    "def count_percentile(s):\n",
    "    return s / s.sum() * 100\n",
    "df = df.apply(count_percentile,axis=0)"
   ]
  },
  {
   "cell_type": "code",
   "execution_count": 20,
   "metadata": {},
   "outputs": [],
   "source": [
    "df = df.droplevel(1,1)\n",
    "df = df.sort_values(0,axis=1)\n",
    "df = df.stack().unstack(0)"
   ]
  },
  {
   "cell_type": "code",
   "execution_count": 21,
   "metadata": {
    "scrolled": false
   },
   "outputs": [
    {
     "data": {
      "image/png": "[encoded data removed]",
      "text/plain": [
       "<Figure size 720x504 with 1 Axes>"
      ]
     },
     "metadata": {
      "needs_background": "light"
     },
     "output_type": "display_data"
    }
   ],
   "source": [
    "df.plot.barh(figsize=(10,7),stacked=True)\n",
    "plt.legend(loc='upper center');"
   ]
  },
  {
   "cell_type": "markdown",
   "metadata": {},
   "source": [
    "**Nhận xét:**\n",
    "- Trong các công việc của tập dữ liệu, nhiều kĩ năng không cần thiết cho công việc như: google_an, flink, keras, mongo, pytorch, scikit, bi, sas, tensor, hadoop, tableau, aws, spark (các kĩ năng này không cần thiết trong hơn 70% công việc của tập dữ liệu).\n",
    "- Có vẻ như những công việc trong tập dữ liệu chỉ cần yêu cầu kĩ năng ở mức cơ bản như python, sql, excel (các kĩ năng này được yêu cầu trong gần 60% công việc được thu thập của tập dữ liệu). Hơn 20% công việc yêu cầu thêm một số kỹ năng như spark, aws, tableau. Những yêu cầu về các kĩ năng còn lại đều ở mức dưới 20%."
   ]
  },
  {
   "cell_type": "markdown",
   "metadata": {},
   "source": [
    "### Với mỗi cột có kiểu dữ liệu dạng phân loại (categorical), các giá trị được phân bố như thế nào?\n",
    "• Số-lượng/tỉ-lệ các giá trị thiếu?\n",
    "\n",
    "• Số lượng các giá trị khác nhau? Show một vài giá trị\n",
    "\n",
    "→ Có gì bất thường không?"
   ]
  },
  {
   "cell_type": "markdown",
   "metadata": {},
   "source": [
    "- Các cột có kiểu dữ liệu dạng phân loại (categorical) là: ```Job Title```, ```Salary Estimate```, ```Location```, ```Headquarters```, ```Size```, ```Type of ownership```, ```Industry```,```Sector```, ```Revenue```, ```company_txt```, ```job_title_sim```, ```seniority_by_title```, ```Degree```.\n",
    "- Cần chuyển những cột dữ liệu dạng phân loại sau thành dạng số: ```Salary Estimate```, ```Size```, ```Revenue```."
   ]
  },
  {
   "cell_type": "code",
   "execution_count": 22,
   "metadata": {},
   "outputs": [],
   "source": [
    "cate_col_profile = project_dataframe[['Job Title','Location', 'Headquarters','Type of ownership', 'Industry','Sector',\\\n",
    "                          'company_txt', 'job_title_sim', 'seniority_by_title', 'Degree']]"
   ]
  },
  {
   "cell_type": "code",
   "execution_count": 23,
   "metadata": {},
   "outputs": [
    {
     "data": {
      "text/html": [
       "<div>\n",
       "<style scoped>\n",
       "    .dataframe tbody tr th:only-of-type {\n",
       "        vertical-align: middle;\n",
       "    }\n",
       "\n",
       "    .dataframe tbody tr th {\n",
       "        vertical-align: top;\n",
       "    }\n",
       "\n",
       "    .dataframe thead th {\n",
       "        text-align: right;\n",
       "    }\n",
       "</style>\n",
       "<table border=\"1\" class=\"dataframe\">\n",
       "  <thead>\n",
       "    <tr style=\"text-align: right;\">\n",
       "      <th></th>\n",
       "      <th>Job Title</th>\n",
       "      <th>Location</th>\n",
       "      <th>Headquarters</th>\n",
       "      <th>Type of ownership</th>\n",
       "      <th>Industry</th>\n",
       "      <th>Sector</th>\n",
       "      <th>company_txt</th>\n",
       "      <th>job_title_sim</th>\n",
       "      <th>seniority_by_title</th>\n",
       "      <th>Degree</th>\n",
       "    </tr>\n",
       "    <tr>\n",
       "      <th>index</th>\n",
       "      <th></th>\n",
       "      <th></th>\n",
       "      <th></th>\n",
       "      <th></th>\n",
       "      <th></th>\n",
       "      <th></th>\n",
       "      <th></th>\n",
       "      <th></th>\n",
       "      <th></th>\n",
       "      <th></th>\n",
       "    </tr>\n",
       "  </thead>\n",
       "  <tbody>\n",
       "    <tr>\n",
       "      <th>0</th>\n",
       "      <td>Data Scientist</td>\n",
       "      <td>Albuquerque, NM</td>\n",
       "      <td>Goleta, CA</td>\n",
       "      <td>Company - Private</td>\n",
       "      <td>Aerospace &amp; Defense</td>\n",
       "      <td>Aerospace &amp; Defense</td>\n",
       "      <td>Tecolote Research</td>\n",
       "      <td>data scientist</td>\n",
       "      <td>na</td>\n",
       "      <td>M</td>\n",
       "    </tr>\n",
       "    <tr>\n",
       "      <th>1</th>\n",
       "      <td>Healthcare Data Scientist</td>\n",
       "      <td>Linthicum, MD</td>\n",
       "      <td>Baltimore, MD</td>\n",
       "      <td>Other Organization</td>\n",
       "      <td>Health Care Services &amp; Hospitals</td>\n",
       "      <td>Health Care</td>\n",
       "      <td>University of Maryland Medical System</td>\n",
       "      <td>data scientist</td>\n",
       "      <td>na</td>\n",
       "      <td>M</td>\n",
       "    </tr>\n",
       "    <tr>\n",
       "      <th>2</th>\n",
       "      <td>Data Scientist</td>\n",
       "      <td>Clearwater, FL</td>\n",
       "      <td>Clearwater, FL</td>\n",
       "      <td>Company - Private</td>\n",
       "      <td>Security Services</td>\n",
       "      <td>Business Services</td>\n",
       "      <td>KnowBe4</td>\n",
       "      <td>data scientist</td>\n",
       "      <td>na</td>\n",
       "      <td>M</td>\n",
       "    </tr>\n",
       "    <tr>\n",
       "      <th>3</th>\n",
       "      <td>Data Scientist</td>\n",
       "      <td>Richland, WA</td>\n",
       "      <td>Richland, WA</td>\n",
       "      <td>Government</td>\n",
       "      <td>Energy</td>\n",
       "      <td>Oil, Gas, Energy &amp; Utilities</td>\n",
       "      <td>PNNL</td>\n",
       "      <td>data scientist</td>\n",
       "      <td>na</td>\n",
       "      <td>na</td>\n",
       "    </tr>\n",
       "    <tr>\n",
       "      <th>4</th>\n",
       "      <td>Data Scientist</td>\n",
       "      <td>New York, NY</td>\n",
       "      <td>New York, NY</td>\n",
       "      <td>Company - Private</td>\n",
       "      <td>Advertising &amp; Marketing</td>\n",
       "      <td>Business Services</td>\n",
       "      <td>Affinity Solutions</td>\n",
       "      <td>data scientist</td>\n",
       "      <td>na</td>\n",
       "      <td>na</td>\n",
       "    </tr>\n",
       "  </tbody>\n",
       "</table>\n",
       "</div>"
      ],
      "text/plain": [
       "                       Job Title         Location    Headquarters  \\\n",
       "index                                                               \n",
       "0                 Data Scientist  Albuquerque, NM      Goleta, CA   \n",
       "1      Healthcare Data Scientist    Linthicum, MD   Baltimore, MD   \n",
       "2                 Data Scientist   Clearwater, FL  Clearwater, FL   \n",
       "3                 Data Scientist     Richland, WA    Richland, WA   \n",
       "4                 Data Scientist     New York, NY    New York, NY   \n",
       "\n",
       "        Type of ownership                          Industry  \\\n",
       "index                                                         \n",
       "0       Company - Private               Aerospace & Defense   \n",
       "1      Other Organization  Health Care Services & Hospitals   \n",
       "2       Company - Private                 Security Services   \n",
       "3              Government                            Energy   \n",
       "4       Company - Private           Advertising & Marketing   \n",
       "\n",
       "                             Sector                            company_txt  \\\n",
       "index                                                                        \n",
       "0               Aerospace & Defense                      Tecolote Research   \n",
       "1                       Health Care  University of Maryland Medical System   \n",
       "2                 Business Services                                KnowBe4   \n",
       "3      Oil, Gas, Energy & Utilities                                   PNNL   \n",
       "4                 Business Services                     Affinity Solutions   \n",
       "\n",
       "        job_title_sim seniority_by_title Degree  \n",
       "index                                            \n",
       "0      data scientist                 na      M  \n",
       "1      data scientist                 na      M  \n",
       "2      data scientist                 na      M  \n",
       "3      data scientist                 na     na  \n",
       "4      data scientist                 na     na  "
      ]
     },
     "execution_count": 23,
     "metadata": {},
     "output_type": "execute_result"
    }
   ],
   "source": [
    "cate_col_profile.head()"
   ]
  },
  {
   "cell_type": "code",
   "execution_count": 24,
   "metadata": {},
   "outputs": [
    {
     "name": "stdout",
     "output_type": "stream",
     "text": [
      "{ Job Title :  0.0 }\n",
      "{ Location :  0.0 }\n",
      "{ Headquarters :  0.0 }\n",
      "{ Type of ownership :  0.0 }\n",
      "{ Industry :  0.0 }\n",
      "{ Sector :  0.0 }\n",
      "{ company_txt :  0.0 }\n",
      "{ job_title_sim :  0.0 }\n",
      "{ seniority_by_title :  0.0 }\n",
      "{ Degree :  0.0 }\n"
     ]
    }
   ],
   "source": [
    "#tính giá trị thiếu, loại bỏ giá trị thiếu\n",
    "def missing_percent(s):\n",
    "    missing_count=s.isnull().sum() \n",
    "    result=float(missing_count)/float(s.shape[0]) * float(100)\n",
    "    return result\n",
    "\n",
    "col_name=cate_col_profile.columns\n",
    "missing_ratio=[]\n",
    "for i in col_name:\n",
    "    missing=missing_percent(cate_col_profile[i])\n",
    "    print(\"{\", i, \": \",missing, \"}\")"
   ]
  },
  {
   "cell_type": "code",
   "execution_count": 25,
   "metadata": {
    "scrolled": false
   },
   "outputs": [],
   "source": [
    "# những giá trị đặc trưng của mỗi cột dữ liệu\n",
    "def diff_vals(s):\n",
    "    return s.unique()\n",
    "def num_diff_val(s):\n",
    "    return s.nunique()\n",
    "\n",
    "cate_col_profile = cate_col_profile.agg([diff_vals,num_diff_val],axis=0)"
   ]
  },
  {
   "cell_type": "code",
   "execution_count": 26,
   "metadata": {
    "scrolled": false
   },
   "outputs": [
    {
     "data": {
      "text/html": [
       "<div>\n",
       "<style scoped>\n",
       "    .dataframe tbody tr th:only-of-type {\n",
       "        vertical-align: middle;\n",
       "    }\n",
       "\n",
       "    .dataframe tbody tr th {\n",
       "        vertical-align: top;\n",
       "    }\n",
       "\n",
       "    .dataframe thead th {\n",
       "        text-align: right;\n",
       "    }\n",
       "</style>\n",
       "<table border=\"1\" class=\"dataframe\">\n",
       "  <thead>\n",
       "    <tr style=\"text-align: right;\">\n",
       "      <th></th>\n",
       "      <th>Job Title</th>\n",
       "      <th>Location</th>\n",
       "      <th>Headquarters</th>\n",
       "      <th>Type of ownership</th>\n",
       "      <th>Industry</th>\n",
       "      <th>Sector</th>\n",
       "      <th>company_txt</th>\n",
       "      <th>job_title_sim</th>\n",
       "      <th>seniority_by_title</th>\n",
       "      <th>Degree</th>\n",
       "    </tr>\n",
       "  </thead>\n",
       "  <tbody>\n",
       "    <tr>\n",
       "      <th>diff_vals</th>\n",
       "      <td>[Data Scientist, Healthcare Data Scientist, Research Scientist, Staff Data Scientist - Technology, Data Analyst, Data Engineer I, Scientist I/II, Biology, Customer Data Scientist, Data Scientist - Health Data Analytics, Senior Data Scientist / Machine Learning, Data Scientist - Quantitative, Digital Health Data Scientist, Associate Data Analyst, Clinical Data Scientist, Data Scientist / Machine Learning Expert, Web Data Analyst, Senior Data Scientist, Data Engineer, Data Scientist - Algorithms &amp; Inference, Scientist, Lead Data Scientist, Spectral Scientist/Engineer, College Hire - Data Scientist - Open to December 2019 Graduates, Data Scientist, Office of Data Science, Data Science Analyst, Senior Risk Data Scientist, Data Scientist in Artificial Intelligence Early Career, Data Scientist - Research, R&amp;D Data Analysis Scientist, Analytics Consultant, Director, Data Science, Data Scientist SR, R&amp;D Sr Data Scientist, Customer Data Scientist/Sales Engineer (Bay, Jr. Business Data Analyst, Data Management Specialist, E-Commerce Data Analyst, Sr. Scientist II, Insurance Data Scientist, Data Modeler, Data Analyst / Scientist, Data Scientist, Rice University, Financial Data Analyst, Senior Data Analyst, Ag Data Scientist, Data Scientist II, Senior Data Engineer, Project Scientist, Data Analytics Manager, Senior Machine Learning (ML) Engineer / Data Scientist - Cyber Security Analytics, Associate Scientist, Scientist 2, QC Viral Vector, Machine Learning Engineer, Data Scientist/ML Engineer, Sr. Data Scientist, Data Engineer 4 - Contract, Data Analyst - Asset Management, Senior Research Scientist - Embedded System Development for DevOps, Data Scientist - Bioinformatics, Customer Data Scientist/Sales Engineer, MongoDB Data Engineer II, Senior Data Scientist Statistics, Senior Spark Engineer (Data Science), BI &amp; Platform Analytics Manager, Sr. Data Scientist - Analytics, Personalized Healthcare (PHC), Pricipal Scientist Molecular and cellular biologist, Data Scientist (Actuary, FSA or ASA), Staff Data Scientist, Data Engineer 5 - Contract (Remote), Senior Scientist - Neuroscience, Medical Lab Scientist, Risk and Analytics IT, Data Scientist, Scientist, Analytical Development, Analytics Manager, Digital Marketing &amp; ECommerce Data Analyst, Sr. Scientist - Digital &amp; Image Analysis/Computational Pathology, Principal Scientist - Immunologist, MED TECH/LAB SCIENTIST - LABORATORY, Sr. Scientist, Quantitative Translational Sciences, Sr. Data Scientist II, Excel / VBA / SQL Data Analyst, Machine Learning Research Scientist, VP, Data Science, Radar Data Analyst, PL Actuarial-Lead Data Scientist, PV Scientist, Senior Data &amp; Machine Learning Scientist, Principal Data Scientist (Computational Chemistry), Principal Scientist, Chemistry &amp; Immunology, Software Engineer - Data Visualization, Scientist/Senior Scientist, Autoimmune, Staff Machine Learning Engineer, Principal Scientist, Hematology, Marketing Data Analyst, Medical Laboratory Scientist, R&amp;D Specialist/ Food Scientist, Senior Research Scientist-Machine Learning, Analytics Manager - Data Mart, Sr. Data Engineer - Contract-to-Hire (Java), MED TECH/LAB SCIENTIST- SOUTH COASTAL LAB, ...]</td>\n",
       "      <td>[Albuquerque, NM, Linthicum, MD, Clearwater, FL, Richland, WA, New York, NY, Dallas, TX, Baltimore, MD, San Jose, CA, Rochester, NY, Chantilly, VA, Plano, TX, Seattle, WA, Cambridge, MA, Newark, NJ, Mountain View, CA, San Francisco, CA, Denver, CO, Chicago, IL, Louisville, KY, Herndon, VA, Hillsboro, OR, Worcester, MA, Groton, CT, Detroit, MI, Sunnyvale, CA, Ipswich, MA, Redlands, CA, Woburn, MA, Fremont, CA, Long Beach, NY, Marlborough, MA, Allendale, NJ, Bellevue, WA, Longmont, CO, Beavercreek, OH, Peoria, IL, Fort Lauderdale, FL, Boston, MA, Huntsville, AL, Armonk, NY, San Diego, CA, Saint Louis, MO, Cincinnati, OH, Palo Alto, CA, Coraopolis, PA, Framingham, MA, Atlanta, GA, Philadelphia, PA, Vancouver, WA, Indianapolis, IN, Lake Forest, IL, Maryland Heights, MO, Charlottesville, VA, Pittsburgh, PA, Harrisburg, PA, Laurel, MD, Arlington, VA, Tacoma, WA, Miami, FL, New Orleans, LA, Landover, MD, Patuxent River, MD, Suitland, MD, McLean, VA, Fort Belvoir, VA, Milwaukee, WI, Silver Spring, MD, Syracuse, NY, Houston, TX, Charlotte, NC, Southfield, MI, Matawan, NJ, Phoenix, AZ, Omaha, NE, Lyndhurst, NJ, Atlanta, IN, Rockville, MD, Minneapolis, MN, Los Angeles, CA, Washington, DC, Alabaster, AL, Santa Fe Springs, Los Angeles, CA, Kansas City, MO, Ashburn, VA, Fort Worth, TX, Valencia, CA, Novato, CA, Aurora, CO, Riverton, UT, Chattanooga, TN, Ewing, NJ, South San Francisco, CA, Cupertino, CA, Frederick, MD, West Reading, PA, Madison, WI, Dearborn, MI, Winter Park, FL, San Rafael, CA, Hamilton, NJ, ...]</td>\n",
       "      <td>[Goleta, CA, Baltimore, MD, Clearwater, FL, Richland, WA, New York, NY, Dallas, TX, Seattle, WA, Rochester, NY, San Francisco, CA, Herndon, VA, Bentonville, AR, OSAKA, Japan, Newark, NJ, Cambridge, MA, Mountain View, CA, Denver, CO, New Plymouth, ID, Peachtree City, GA, Mc Lean, VA, San Jose, CA, Worcester, MA, Detroit, MI, Basel, Switzerland, Sunnyvale, CA, Ipswich, MA, Chicago, IL, Redlands, CA, Woburn, MA, Gottingen, Germany, Long Beach, NY, Lowell, MA, Shelton, CT, Foster City, CA, Omaha, NE, Chantilly, VA, Deerfield, IL, Fort Lauderdale, FL, Boston, MA, Huntsville, AL, Zurich, Switzerland, Falls Church, VA, Santa Clara, CA, Saint Louis, MO, Cincinnati, OH, Palo Alto, CA, Coraopolis, PA, Framingham, MA, Atlanta, GA, Chadds Ford, PA, Pleasanton, CA, Lake Forest, IL, San Diego, CA, Reston, VA, Louvain-la-Neuve, Belgium, Beijing, China, Harrisburg, PA, Laurel, MD, Arlington, VA, Tacoma, WA, Miami, FL, New Orleans, LA, Vienna, VA, Fairfax, VA, Bedford, MA, Silver Spring, MD, Syracuse, NY, Richmond, VA, Pompano Beach, FL, Phoenix, AZ, Lyndhurst, NJ, San Rafael, CA, Atlanta, IN, Rockville, MD, Minneapolis, MN, Los Angeles, CA, Fort Mill, SC, Washington, DC, Decatur, AL, Santa Fe Springs, CA, Kansas City, MO, Fort Worth, TX, West Hills, CA, Aurora, CO, London, United Kingdom, Salt Lake City, UT, Pittsburgh, PA, Chattanooga, TN, Indianapolis, IN, Ewing, NJ, Springfield, MA, South San Francisco, CA, Frederick, MD, Marlborough, MA, Reading, PA, Madison, WI, Winter Park, FL, Hamilton, NJ, Lewes, DE, Hamilton, Bermuda, Springfield, MO, ...]</td>\n",
       "      <td>[Company - Private, Other Organization, Government, Company - Public, Hospital, Subsidiary or Business Segment, Nonprofit Organization, College / University, School / School District]</td>\n",
       "      <td>[Aerospace &amp; Defense, Health Care Services &amp; Hospitals, Security Services, Energy, Advertising &amp; Marketing, Real Estate, Banks &amp; Credit Unions, Consulting, Internet, Other Retail Stores, Research &amp; Development, Department, Clothing, &amp; Shoe Stores, Biotech &amp; Pharmaceuticals, Motion Picture Production &amp; Distribution, Enterprise Software &amp; Network Solutions, Insurance Carriers, Insurance Agencies &amp; Brokerages, Logistics &amp; Supply Chain, Telecommunications Services, IT Services, Computer Hardware &amp; Software, -1, Consumer Products Manufacturing, Industrial Manufacturing, Metals Brokers, Financial Transaction Processing, Sporting Goods Stores, Staffing &amp; Outsourcing, Wholesale, Mining, Financial Analytics &amp; Research, Federal Agencies, Education Training Services, Transportation Equipment Manufacturing, Farm Support Services, TV Broadcast &amp; Cable Networks, Architectural &amp; Engineering Services, Brokerage Services, Travel Agencies, Religious Organizations, Colleges &amp; Universities, Investment Banking &amp; Asset Management, Lending, Gambling, Food &amp; Beverage Manufacturing, Gas Stations, Transportation Management, Video Games, Trucking, Social Assistance, Auctions &amp; Galleries, K-12 Education, Telecommunications Manufacturing, Stock Exchanges, Accounting, Health Care Products Manufacturing, Health, Beauty, &amp; Fitness, Consumer Product Rental, Beauty &amp; Personal Accessories Stores]</td>\n",
       "      <td>[Aerospace &amp; Defense, Health Care, Business Services, Oil, Gas, Energy &amp; Utilities, Real Estate, Finance, Information Technology, Retail, Biotech &amp; Pharmaceuticals, Media, Insurance, Transportation &amp; Logistics, Telecommunications, -1, Manufacturing, Mining &amp; Metals, Government, Education, Agriculture &amp; Forestry, Travel &amp; Tourism, Non-Profit, Arts, Entertainment &amp; Recreation, Accounting &amp; Legal, Consumer Services]</td>\n",
       "      <td>[Tecolote Research, University of Maryland Medical System, KnowBe4, PNNL, Affinity Solutions, CyrusOne, ClearOne Advantage, Logic20/20, Rochester Regional Health, &lt;intent&gt;, Wish, ManTech, Walmart, Yesler, Takeda Pharmaceuticals, Audible, Blueprint Medicines, h2o.ai, Nuna, Pinnacol Assurance, Porch, Health IQ, Truckstop.com, SMC 3, Novetta, Pfizer, First Tech Federal Credit Union, The Hanover Insurance Group, Amrock, Novartis, Juniper Networks, New England Biolabs, Clarity Insights, Esri, Systems &amp; Technology Research, Sartorius, Lancer Insurance, Sauce Labs, Persivia, Edgewell Personal Care, Visa Inc., Intrado, Centauri, Caterpillar, Zimmerman Advertising, Liberty Mutual Insurance, Torch Technologies, Inc., Swiss Re, Northrop Grumman, Netskope, 1904labs, The David J. Joseph Company, USEReady, Bill.com, Pacific Northwest National Laboratory, DICK'S Sporting Goods - Corporate, Berg Health, Oversight Systems, C Space, Numeric, LLC, HP Inc., SpringML, Grainger, EAG Laboratories, The Buffalo Group, Carmeuse, GNS Healthcare, Peraton, Pactera, Nurx, webfx.com, Johns Hopkins University Applied Physics Laboratory, Productive Edge, Excella Consulting, Gensco, goTRG, NMR Consulting, iSeatz, Nektar Therapeutics, TransUnion, IT Concepts, Scientific Research Corporation, General Dynamics Information Technology, MITRE, DentaQuest, Redjack, 7Park Data, Rapid Response Monitoring, Trilogy Ed, CapTech, American Axle &amp; Manufacturing, CentralReach, Integrate, Boys Town Hospital, Demandbase, Sapphire Digital, Formation, Autodesk, Beck's Hybrids, DrFirst, ...]</td>\n",
       "      <td>[data scientist, other scientist, analyst, data engineer, data analitics, na, data modeler, Data scientist project manager, machine learning engineer, director]</td>\n",
       "      <td>[na, sr, jr]</td>\n",
       "      <td>[M, na, P]</td>\n",
       "    </tr>\n",
       "    <tr>\n",
       "      <th>num_diff_val</th>\n",
       "      <td>254</td>\n",
       "      <td>197</td>\n",
       "      <td>192</td>\n",
       "      <td>9</td>\n",
       "      <td>59</td>\n",
       "      <td>24</td>\n",
       "      <td>329</td>\n",
       "      <td>10</td>\n",
       "      <td>3</td>\n",
       "      <td>3</td>\n",
       "    </tr>\n",
       "  </tbody>\n",
       "</table>\n",
       "</div>"
      ],
      "text/plain": [
       "                                                                                                                                                                                                                                                                                                                                                                                                                                                                                                                                                                                                                                                                                                                                                                                                                                                                                                                                                                                                                                                                                                                                                                                                                                                                                                                                                                                                                                                                                                                                                                                                                                                                                                                                                                                                                                                                                                                                                                                                                                                                                                                                                                                                                                                                                                                                                                                                                                                                                                                                                                                                                                                                                                                                                                                                                                                                                                                                                                                                                                                                                                                                                                                                                                                                                                          Job Title  \\\n",
       "diff_vals     [Data Scientist, Healthcare Data Scientist, Research Scientist, Staff Data Scientist - Technology, Data Analyst, Data Engineer I, Scientist I/II, Biology, Customer Data Scientist, Data Scientist - Health Data Analytics, Senior Data Scientist / Machine Learning, Data Scientist - Quantitative, Digital Health Data Scientist, Associate Data Analyst, Clinical Data Scientist, Data Scientist / Machine Learning Expert, Web Data Analyst, Senior Data Scientist, Data Engineer, Data Scientist - Algorithms & Inference, Scientist, Lead Data Scientist, Spectral Scientist/Engineer, College Hire - Data Scientist - Open to December 2019 Graduates, Data Scientist, Office of Data Science, Data Science Analyst, Senior Risk Data Scientist, Data Scientist in Artificial Intelligence Early Career, Data Scientist - Research, R&D Data Analysis Scientist, Analytics Consultant, Director, Data Science, Data Scientist SR, R&D Sr Data Scientist, Customer Data Scientist/Sales Engineer (Bay, Jr. Business Data Analyst, Data Management Specialist, E-Commerce Data Analyst, Sr. Scientist II, Insurance Data Scientist, Data Modeler, Data Analyst / Scientist, Data Scientist, Rice University, Financial Data Analyst, Senior Data Analyst, Ag Data Scientist, Data Scientist II, Senior Data Engineer, Project Scientist, Data Analytics Manager, Senior Machine Learning (ML) Engineer / Data Scientist - Cyber Security Analytics, Associate Scientist, Scientist 2, QC Viral Vector, Machine Learning Engineer, Data Scientist/ML Engineer, Sr. Data Scientist, Data Engineer 4 - Contract, Data Analyst - Asset Management, Senior Research Scientist - Embedded System Development for DevOps, Data Scientist - Bioinformatics, Customer Data Scientist/Sales Engineer, MongoDB Data Engineer II, Senior Data Scientist Statistics, Senior Spark Engineer (Data Science), BI & Platform Analytics Manager, Sr. Data Scientist - Analytics, Personalized Healthcare (PHC), Pricipal Scientist Molecular and cellular biologist, Data Scientist (Actuary, FSA or ASA), Staff Data Scientist, Data Engineer 5 - Contract (Remote), Senior Scientist - Neuroscience, Medical Lab Scientist, Risk and Analytics IT, Data Scientist, Scientist, Analytical Development, Analytics Manager, Digital Marketing & ECommerce Data Analyst, Sr. Scientist - Digital & Image Analysis/Computational Pathology, Principal Scientist - Immunologist, MED TECH/LAB SCIENTIST - LABORATORY, Sr. Scientist, Quantitative Translational Sciences, Sr. Data Scientist II, Excel / VBA / SQL Data Analyst, Machine Learning Research Scientist, VP, Data Science, Radar Data Analyst, PL Actuarial-Lead Data Scientist, PV Scientist, Senior Data & Machine Learning Scientist, Principal Data Scientist (Computational Chemistry), Principal Scientist, Chemistry & Immunology, Software Engineer - Data Visualization, Scientist/Senior Scientist, Autoimmune, Staff Machine Learning Engineer, Principal Scientist, Hematology, Marketing Data Analyst, Medical Laboratory Scientist, R&D Specialist/ Food Scientist, Senior Research Scientist-Machine Learning, Analytics Manager - Data Mart, Sr. Data Engineer - Contract-to-Hire (Java), MED TECH/LAB SCIENTIST- SOUTH COASTAL LAB, ...]   \n",
       "num_diff_val                                                                                                                                                                                                                                                                                                                                                                                                                                                                                                                                                                                                                                                                                                                                                                                                                                                                                                                                                                                                                                                                                                                                                                                                                                                                                                                                                                                                                                                                                                                                                                                                                                                                                                                                                                                                                                                                                                                                                                                                                                                                                                                                                                                                                                                                                                                                                                                                                                                                                                                                                                                                                                                                                                                                                                                                                                                                                                                                                                                                                                                                                                                                                                                                                                                                                                    254   \n",
       "\n",
       "                                                                                                                                                                                                                                                                                                                                                                                                                                                                                                                                                                                                                                                                                                                                                                                                                                                                                                                                                                                                                                                                                                                                                                                                                                                                                                                                                                                                                                                                                                                                                                                          Location  \\\n",
       "diff_vals     [Albuquerque, NM, Linthicum, MD, Clearwater, FL, Richland, WA, New York, NY, Dallas, TX, Baltimore, MD, San Jose, CA, Rochester, NY, Chantilly, VA, Plano, TX, Seattle, WA, Cambridge, MA, Newark, NJ, Mountain View, CA, San Francisco, CA, Denver, CO, Chicago, IL, Louisville, KY, Herndon, VA, Hillsboro, OR, Worcester, MA, Groton, CT, Detroit, MI, Sunnyvale, CA, Ipswich, MA, Redlands, CA, Woburn, MA, Fremont, CA, Long Beach, NY, Marlborough, MA, Allendale, NJ, Bellevue, WA, Longmont, CO, Beavercreek, OH, Peoria, IL, Fort Lauderdale, FL, Boston, MA, Huntsville, AL, Armonk, NY, San Diego, CA, Saint Louis, MO, Cincinnati, OH, Palo Alto, CA, Coraopolis, PA, Framingham, MA, Atlanta, GA, Philadelphia, PA, Vancouver, WA, Indianapolis, IN, Lake Forest, IL, Maryland Heights, MO, Charlottesville, VA, Pittsburgh, PA, Harrisburg, PA, Laurel, MD, Arlington, VA, Tacoma, WA, Miami, FL, New Orleans, LA, Landover, MD, Patuxent River, MD, Suitland, MD, McLean, VA, Fort Belvoir, VA, Milwaukee, WI, Silver Spring, MD, Syracuse, NY, Houston, TX, Charlotte, NC, Southfield, MI, Matawan, NJ, Phoenix, AZ, Omaha, NE, Lyndhurst, NJ, Atlanta, IN, Rockville, MD, Minneapolis, MN, Los Angeles, CA, Washington, DC, Alabaster, AL, Santa Fe Springs, Los Angeles, CA, Kansas City, MO, Ashburn, VA, Fort Worth, TX, Valencia, CA, Novato, CA, Aurora, CO, Riverton, UT, Chattanooga, TN, Ewing, NJ, South San Francisco, CA, Cupertino, CA, Frederick, MD, West Reading, PA, Madison, WI, Dearborn, MI, Winter Park, FL, San Rafael, CA, Hamilton, NJ, ...]   \n",
       "num_diff_val                                                                                                                                                                                                                                                                                                                                                                                                                                                                                                                                                                                                                                                                                                                                                                                                                                                                                                                                                                                                                                                                                                                                                                                                                                                                                                                                                                                                                                                                                                                                                                                   197   \n",
       "\n",
       "                                                                                                                                                                                                                                                                                                                                                                                                                                                                                                                                                                                                                                                                                                                                                                                                                                                                                                                                                                                                                                                                                                                                                                                                                                                                                                                                                                                                                                                                                                                                                                                                                        Headquarters  \\\n",
       "diff_vals     [Goleta, CA, Baltimore, MD, Clearwater, FL, Richland, WA, New York, NY, Dallas, TX, Seattle, WA, Rochester, NY, San Francisco, CA, Herndon, VA, Bentonville, AR, OSAKA, Japan, Newark, NJ, Cambridge, MA, Mountain View, CA, Denver, CO, New Plymouth, ID, Peachtree City, GA, Mc Lean, VA, San Jose, CA, Worcester, MA, Detroit, MI, Basel, Switzerland, Sunnyvale, CA, Ipswich, MA, Chicago, IL, Redlands, CA, Woburn, MA, Gottingen, Germany, Long Beach, NY, Lowell, MA, Shelton, CT, Foster City, CA, Omaha, NE, Chantilly, VA, Deerfield, IL, Fort Lauderdale, FL, Boston, MA, Huntsville, AL, Zurich, Switzerland, Falls Church, VA, Santa Clara, CA, Saint Louis, MO, Cincinnati, OH, Palo Alto, CA, Coraopolis, PA, Framingham, MA, Atlanta, GA, Chadds Ford, PA, Pleasanton, CA, Lake Forest, IL, San Diego, CA, Reston, VA, Louvain-la-Neuve, Belgium, Beijing, China, Harrisburg, PA, Laurel, MD, Arlington, VA, Tacoma, WA, Miami, FL, New Orleans, LA, Vienna, VA, Fairfax, VA, Bedford, MA, Silver Spring, MD, Syracuse, NY, Richmond, VA, Pompano Beach, FL, Phoenix, AZ, Lyndhurst, NJ, San Rafael, CA, Atlanta, IN, Rockville, MD, Minneapolis, MN, Los Angeles, CA, Fort Mill, SC, Washington, DC, Decatur, AL, Santa Fe Springs, CA, Kansas City, MO, Fort Worth, TX, West Hills, CA, Aurora, CO, London, United Kingdom, Salt Lake City, UT, Pittsburgh, PA, Chattanooga, TN, Indianapolis, IN, Ewing, NJ, Springfield, MA, South San Francisco, CA, Frederick, MD, Marlborough, MA, Reading, PA, Madison, WI, Winter Park, FL, Hamilton, NJ, Lewes, DE, Hamilton, Bermuda, Springfield, MO, ...]   \n",
       "num_diff_val                                                                                                                                                                                                                                                                                                                                                                                                                                                                                                                                                                                                                                                                                                                                                                                                                                                                                                                                                                                                                                                                                                                                                                                                                                                                                                                                                                                                                                                                                                                                                                                                                     192   \n",
       "\n",
       "                                                                                                                                                                                    Type of ownership  \\\n",
       "diff_vals     [Company - Private, Other Organization, Government, Company - Public, Hospital, Subsidiary or Business Segment, Nonprofit Organization, College / University, School / School District]   \n",
       "num_diff_val                                                                                                                                                                                        9   \n",
       "\n",
       "                                                                                                                                                                                                                                                                                                                                                                                                                                                                                                                                                                                                                                                                                                                                                                                                                                                                                                                                                                                                                                                                                                                                                                                                                                                                                                                                                                                                                                              Industry  \\\n",
       "diff_vals     [Aerospace & Defense, Health Care Services & Hospitals, Security Services, Energy, Advertising & Marketing, Real Estate, Banks & Credit Unions, Consulting, Internet, Other Retail Stores, Research & Development, Department, Clothing, & Shoe Stores, Biotech & Pharmaceuticals, Motion Picture Production & Distribution, Enterprise Software & Network Solutions, Insurance Carriers, Insurance Agencies & Brokerages, Logistics & Supply Chain, Telecommunications Services, IT Services, Computer Hardware & Software, -1, Consumer Products Manufacturing, Industrial Manufacturing, Metals Brokers, Financial Transaction Processing, Sporting Goods Stores, Staffing & Outsourcing, Wholesale, Mining, Financial Analytics & Research, Federal Agencies, Education Training Services, Transportation Equipment Manufacturing, Farm Support Services, TV Broadcast & Cable Networks, Architectural & Engineering Services, Brokerage Services, Travel Agencies, Religious Organizations, Colleges & Universities, Investment Banking & Asset Management, Lending, Gambling, Food & Beverage Manufacturing, Gas Stations, Transportation Management, Video Games, Trucking, Social Assistance, Auctions & Galleries, K-12 Education, Telecommunications Manufacturing, Stock Exchanges, Accounting, Health Care Products Manufacturing, Health, Beauty, & Fitness, Consumer Product Rental, Beauty & Personal Accessories Stores]   \n",
       "num_diff_val                                                                                                                                                                                                                                                                                                                                                                                                                                                                                                                                                                                                                                                                                                                                                                                                                                                                                                                                                                                                                                                                                                                                                                                                                                                                                                                                                                                                                                        59   \n",
       "\n",
       "                                                                                                                                                                                                                                                                                                                                                                                                                                        Sector  \\\n",
       "diff_vals     [Aerospace & Defense, Health Care, Business Services, Oil, Gas, Energy & Utilities, Real Estate, Finance, Information Technology, Retail, Biotech & Pharmaceuticals, Media, Insurance, Transportation & Logistics, Telecommunications, -1, Manufacturing, Mining & Metals, Government, Education, Agriculture & Forestry, Travel & Tourism, Non-Profit, Arts, Entertainment & Recreation, Accounting & Legal, Consumer Services]   \n",
       "num_diff_val                                                                                                                                                                                                                                                                                                                                                                                                                                24   \n",
       "\n",
       "                                                                                                                                                                                                                                                                                                                                                                                                                                                                                                                                                                                                                                                                                                                                                                                                                                                                                                                                                                                                                                                                                                                                                                                                                                                                                                                                                                                                                                                                                                                                                                                                                              company_txt  \\\n",
       "diff_vals     [Tecolote Research, University of Maryland Medical System, KnowBe4, PNNL, Affinity Solutions, CyrusOne, ClearOne Advantage, Logic20/20, Rochester Regional Health, <intent>, Wish, ManTech, Walmart, Yesler, Takeda Pharmaceuticals, Audible, Blueprint Medicines, h2o.ai, Nuna, Pinnacol Assurance, Porch, Health IQ, Truckstop.com, SMC 3, Novetta, Pfizer, First Tech Federal Credit Union, The Hanover Insurance Group, Amrock, Novartis, Juniper Networks, New England Biolabs, Clarity Insights, Esri, Systems & Technology Research, Sartorius, Lancer Insurance, Sauce Labs, Persivia, Edgewell Personal Care, Visa Inc., Intrado, Centauri, Caterpillar, Zimmerman Advertising, Liberty Mutual Insurance, Torch Technologies, Inc., Swiss Re, Northrop Grumman, Netskope, 1904labs, The David J. Joseph Company, USEReady, Bill.com, Pacific Northwest National Laboratory, DICK'S Sporting Goods - Corporate, Berg Health, Oversight Systems, C Space, Numeric, LLC, HP Inc., SpringML, Grainger, EAG Laboratories, The Buffalo Group, Carmeuse, GNS Healthcare, Peraton, Pactera, Nurx, webfx.com, Johns Hopkins University Applied Physics Laboratory, Productive Edge, Excella Consulting, Gensco, goTRG, NMR Consulting, iSeatz, Nektar Therapeutics, TransUnion, IT Concepts, Scientific Research Corporation, General Dynamics Information Technology, MITRE, DentaQuest, Redjack, 7Park Data, Rapid Response Monitoring, Trilogy Ed, CapTech, American Axle & Manufacturing, CentralReach, Integrate, Boys Town Hospital, Demandbase, Sapphire Digital, Formation, Autodesk, Beck's Hybrids, DrFirst, ...]   \n",
       "num_diff_val                                                                                                                                                                                                                                                                                                                                                                                                                                                                                                                                                                                                                                                                                                                                                                                                                                                                                                                                                                                                                                                                                                                                                                                                                                                                                                                                                                                                                                                                                                                                                                                                                          329   \n",
       "\n",
       "                                                                                                                                                                 job_title_sim  \\\n",
       "diff_vals     [data scientist, other scientist, analyst, data engineer, data analitics, na, data modeler, Data scientist project manager, machine learning engineer, director]   \n",
       "num_diff_val                                                                                                                                                                10   \n",
       "\n",
       "             seniority_by_title      Degree  \n",
       "diff_vals          [na, sr, jr]  [M, na, P]  \n",
       "num_diff_val                  3           3  "
      ]
     },
     "execution_count": 26,
     "metadata": {},
     "output_type": "execute_result"
    }
   ],
   "source": [
    "cate_col_profile"
   ]
  },
  {
   "cell_type": "markdown",
   "metadata": {},
   "source": [
    "# 4. Đưa ra các câu hỏi có ý nghĩa cần trả lời"
   ]
  },
  {
   "cell_type": "markdown",
   "metadata": {},
   "source": [
    "**Câu hỏi**\n",
    "- Mối liên hệ giữa rating và mức lương cao nhất, thấp nhất trong mỗi lĩnh vực là như thế nào?"
   ]
  },
  {
   "cell_type": "markdown",
   "metadata": {},
   "source": [
    "# 5.Tiền xử lý + phân tích dữ liệu để trả lời cho từng câu hỏi"
   ]
  },
  {
   "cell_type": "code",
   "execution_count": 27,
   "metadata": {},
   "outputs": [
    {
     "data": {
      "text/plain": [
       "array(['data scientist', 'other scientist', 'analyst', 'data engineer',\n",
       "       'data analitics', 'na', 'data modeler',\n",
       "       'Data scientist project manager', 'machine learning engineer',\n",
       "       'director'], dtype=object)"
      ]
     },
     "execution_count": 27,
     "metadata": {},
     "output_type": "execute_result"
    }
   ],
   "source": [
    "# mỗi lĩnh vực sẽ tương ứng với một giá trị trong cột \"job_title_sim\"\n",
    "# coi trước các giá trị trong cột \"job_title_sim\"\n",
    "project_dataframe[\"job_title_sim\"].unique()"
   ]
  },
  {
   "cell_type": "code",
   "execution_count": 28,
   "metadata": {},
   "outputs": [
    {
     "data": {
      "text/html": [
       "<div>\n",
       "<style scoped>\n",
       "    .dataframe tbody tr th:only-of-type {\n",
       "        vertical-align: middle;\n",
       "    }\n",
       "\n",
       "    .dataframe tbody tr th {\n",
       "        vertical-align: top;\n",
       "    }\n",
       "\n",
       "    .dataframe thead th {\n",
       "        text-align: right;\n",
       "    }\n",
       "</style>\n",
       "<table border=\"1\" class=\"dataframe\">\n",
       "  <thead>\n",
       "    <tr style=\"text-align: right;\">\n",
       "      <th></th>\n",
       "      <th>Rating</th>\n",
       "      <th>Lower Salary</th>\n",
       "      <th>Upper Salary</th>\n",
       "    </tr>\n",
       "  </thead>\n",
       "  <tbody>\n",
       "    <tr>\n",
       "      <th>count</th>\n",
       "      <td>450.000000</td>\n",
       "      <td>450.000000</td>\n",
       "      <td>450.000000</td>\n",
       "    </tr>\n",
       "    <tr>\n",
       "      <th>mean</th>\n",
       "      <td>3.710889</td>\n",
       "      <td>73.333333</td>\n",
       "      <td>127.831111</td>\n",
       "    </tr>\n",
       "    <tr>\n",
       "      <th>std</th>\n",
       "      <td>0.562679</td>\n",
       "      <td>27.980983</td>\n",
       "      <td>43.064802</td>\n",
       "    </tr>\n",
       "    <tr>\n",
       "      <th>min</th>\n",
       "      <td>1.900000</td>\n",
       "      <td>20.000000</td>\n",
       "      <td>35.000000</td>\n",
       "    </tr>\n",
       "    <tr>\n",
       "      <th>25%</th>\n",
       "      <td>3.400000</td>\n",
       "      <td>53.000000</td>\n",
       "      <td>97.250000</td>\n",
       "    </tr>\n",
       "    <tr>\n",
       "      <th>50%</th>\n",
       "      <td>3.700000</td>\n",
       "      <td>69.000000</td>\n",
       "      <td>124.000000</td>\n",
       "    </tr>\n",
       "    <tr>\n",
       "      <th>75%</th>\n",
       "      <td>4.075000</td>\n",
       "      <td>87.750000</td>\n",
       "      <td>150.000000</td>\n",
       "    </tr>\n",
       "    <tr>\n",
       "      <th>max</th>\n",
       "      <td>5.000000</td>\n",
       "      <td>202.000000</td>\n",
       "      <td>306.000000</td>\n",
       "    </tr>\n",
       "  </tbody>\n",
       "</table>\n",
       "</div>"
      ],
      "text/plain": [
       "           Rating  Lower Salary  Upper Salary\n",
       "count  450.000000    450.000000    450.000000\n",
       "mean     3.710889     73.333333    127.831111\n",
       "std      0.562679     27.980983     43.064802\n",
       "min      1.900000     20.000000     35.000000\n",
       "25%      3.400000     53.000000     97.250000\n",
       "50%      3.700000     69.000000    124.000000\n",
       "75%      4.075000     87.750000    150.000000\n",
       "max      5.000000    202.000000    306.000000"
      ]
     },
     "execution_count": 28,
     "metadata": {},
     "output_type": "execute_result"
    }
   ],
   "source": [
    "# chọn các cột cần thiết để xử lý\n",
    "job_salary_df = project_dataframe[['job_title_sim','Rating','Lower Salary','Upper Salary']]\n",
    "job_salary_df[\"Rating\"] = num_col_profile[\"Rating\"]\n",
    "job_salary_df.describe()"
   ]
  },
  {
   "cell_type": "code",
   "execution_count": 29,
   "metadata": {},
   "outputs": [
    {
     "data": {
      "text/plain": [
       "array(['data scientist', 'analyst', 'data engineer', 'data analitics',\n",
       "       'data modeler', 'Data scientist project manager',\n",
       "       'machine learning engineer', 'director'], dtype=object)"
      ]
     },
     "execution_count": 29,
     "metadata": {},
     "output_type": "execute_result"
    }
   ],
   "source": [
    "# xóa các dòng có \"job_title_sim\" là \"other scientist\" hoặc \"na\"\n",
    "job_salary_df = job_salary_df[job_salary_df[\"job_title_sim\"] != \"other scientist\"]\n",
    "job_salary_df = job_salary_df[job_salary_df[\"job_title_sim\"] != \"na\"]\n",
    "job_salary_df[\"job_title_sim\"].unique()"
   ]
  },
  {
   "cell_type": "markdown",
   "metadata": {},
   "source": [
    "**Gom nhóm theo từng job_title_sim và nhận xét về mức lương trong từng lĩnh vực**"
   ]
  },
  {
   "cell_type": "code",
   "execution_count": 30,
   "metadata": {},
   "outputs": [
    {
     "data": {
      "text/plain": [
       "job_title_sim\n",
       "Data scientist project manager      8\n",
       "analyst                            70\n",
       "data analitics                      5\n",
       "data engineer                      71\n",
       "data modeler                        4\n",
       "data scientist                    204\n",
       "director                            3\n",
       "machine learning engineer          11\n",
       "dtype: int64"
      ]
     },
     "execution_count": 30,
     "metadata": {},
     "output_type": "execute_result"
    }
   ],
   "source": [
    "job_salary_df.groupby(\"job_title_sim\").size()"
   ]
  },
  {
   "cell_type": "markdown",
   "metadata": {},
   "source": [
    "Nhìn vào thống kê của mỗi nhóm trong \"job_title_sim\" thì chúng ta sẽ xem xét mối liên hệ giữa \"Rating\" với \"Upper Salary\" và \"Lower Salary\" trong các ngành: \"analyst\", \"data engineer\", \"data scientist\" bằng cách vẽ đồ thị để biểu hiện sự tương quan (do các nhóm này có nhiều dữ liệu hơn)."
   ]
  },
  {
   "cell_type": "code",
   "execution_count": 50,
   "metadata": {},
   "outputs": [
    {
     "data": {
      "image/png": "[encoded data removed]",
      "text/plain": [
       "<Figure size 648x648 with 1 Axes>"
      ]
     },
     "metadata": {
      "needs_background": "light"
     },
     "output_type": "display_data"
    },
    {
     "data": {
      "image/png": "[encoded data removed]",
      "text/plain": [
       "<Figure size 432x288 with 1 Axes>"
      ]
     },
     "metadata": {
      "needs_background": "light"
     },
     "output_type": "display_data"
    },
    {
     "data": {
      "image/png": "[encoded data removed]",
      "text/plain": [
       "<Figure size 432x288 with 1 Axes>"
      ]
     },
     "metadata": {
      "needs_background": "light"
     },
     "output_type": "display_data"
    },
    {
     "data": {
      "image/png": "[encoded data removed]",
      "text/plain": [
       "<Figure size 432x288 with 1 Axes>"
      ]
     },
     "metadata": {
      "needs_background": "light"
     },
     "output_type": "display_data"
    }
   ],
   "source": [
    "# lấy ra những dòng có job_title_sim là analyst\n",
    "analyst_df = job_salary_df[job_salary_df[\"job_title_sim\"] == \"analyst\"]\n",
    "\n",
    "# vẽ đồ thị\n",
    "plt.figure(figsize=(9,9))\n",
    "plt.xticks(np.arange(1,5.1,0.25))\n",
    "plt.yticks(range(0,230,25))\n",
    "plt.scatter(analyst_df[\"Rating\"],analyst_df[\"Upper Salary\"])\n",
    "plt.scatter(analyst_df[\"Rating\"],analyst_df[\"Lower Salary\"])\n",
    "plt.xlabel(\"Rating\")\n",
    "plt.ylabel(\"Salary\")\n",
    "plt.legend(['Upper Salary','Lower Salary']);\n",
    "plt.title(\"ANALYST: Rating vs. Salary\");\n",
    "plt.figure();\n",
    "counts=plt.hist(analyst_df[\"Rating\"],edgecolor='black')\n",
    "plt.xticks(counts[1]);\n",
    "plt.title(\"Rating\")\n",
    "plt.figure()\n",
    "counts = plt.hist(analyst_df[\"Lower Salary\"],edgecolor='black')\n",
    "plt.xticks(counts[1]);\n",
    "plt.title(\"Lower Salary\")\n",
    "plt.figure()\n",
    "counts = plt.hist(analyst_df[\"Upper Salary\"],edgecolor='black')\n",
    "plt.xticks(counts[1]);\n",
    "plt.title(\"Upper Salary\");"
   ]
  },
  {
   "cell_type": "markdown",
   "metadata": {},
   "source": [
    "**Nhận xét:**\n",
    "- Có nhiều điểm thẳng hàng với nhau theo trục tung.\n",
    "- Với công việc là analyst thì các điểm tập trung nhiều trong Rating từ 3.25 đến 4.3.\n",
    "- Giá trị của Lower Salary thường trong khoảng từ 30 đến 65.\n",
    "- Giá trị của Upper Salary thường trong khoảng từ 50 đến 120.\n",
    "- Đặc biệt: có một vài công việc trong công ty có rating là 3.3 có Lower và Upper Salary cao hơn so với những điểm dữ liệu khác."
   ]
  },
  {
   "cell_type": "code",
   "execution_count": 51,
   "metadata": {},
   "outputs": [
    {
     "data": {
      "image/png": "[encoded data removed]",
      "text/plain": [
       "<Figure size 648x648 with 1 Axes>"
      ]
     },
     "metadata": {
      "needs_background": "light"
     },
     "output_type": "display_data"
    },
    {
     "data": {
      "image/png": "[encoded data removed]",
      "text/plain": [
       "<Figure size 432x288 with 1 Axes>"
      ]
     },
     "metadata": {
      "needs_background": "light"
     },
     "output_type": "display_data"
    },
    {
     "data": {
      "image/png": "[encoded data removed]",
      "text/plain": [
       "<Figure size 432x288 with 1 Axes>"
      ]
     },
     "metadata": {
      "needs_background": "light"
     },
     "output_type": "display_data"
    },
    {
     "data": {
      "image/png": "[encoded data removed]",
      "text/plain": [
       "<Figure size 432x288 with 1 Axes>"
      ]
     },
     "metadata": {
      "needs_background": "light"
     },
     "output_type": "display_data"
    }
   ],
   "source": [
    "# với công việc là data engineer thì làm tương tự như analyst.\n",
    "# lấy ra những dòng có job_title_sim là data engigeer\n",
    "engineer_df = job_salary_df[job_salary_df[\"job_title_sim\"] == \"data engineer\"]\n",
    "\n",
    "# vẽ đồ thị\n",
    "plt.figure(figsize=(9,9))\n",
    "plt.xticks(np.arange(1,5.1,0.25))\n",
    "plt.yticks(range(0,230,25))\n",
    "plt.scatter(engineer_df[\"Rating\"],engineer_df[\"Upper Salary\"])\n",
    "plt.scatter(engineer_df[\"Rating\"],engineer_df[\"Lower Salary\"])\n",
    "plt.xlabel(\"Rating\")\n",
    "plt.ylabel(\"Salary\")\n",
    "plt.legend(['Upper Salary','Lower Salary']);\n",
    "plt.title(\"DATA ENGINEER: Rating vs. Salary\");\n",
    "\n",
    "plt.figure();\n",
    "counts=plt.hist(engineer_df[\"Rating\"],edgecolor='black')\n",
    "plt.xticks(counts[1]);\n",
    "plt.title(\"Rating\")\n",
    "plt.figure()\n",
    "counts = plt.hist(engineer_df[\"Lower Salary\"],edgecolor='black')\n",
    "plt.xticks(counts[1]);\n",
    "plt.title(\"Lower Salary\")\n",
    "plt.figure()\n",
    "counts = plt.hist(engineer_df[\"Upper Salary\"],edgecolor='black')\n",
    "plt.xticks(counts[1]);\n",
    "plt.title(\"Upper Salary\");"
   ]
  },
  {
   "cell_type": "markdown",
   "metadata": {},
   "source": [
    "**Nhận xét:**\n",
    "- Các điểm dữ liệu tập trung nhiều trong rating từ 3.25 đến 4.25\n",
    "- Các giá trị của Lower Salary thường xuất hiện trong khoảng từ 50 đến 75.\n",
    "- Các giá trị của Upper Salary thường xuất hiện trong khoảng từ 100 đến 150.\n",
    "- Đặc biệt: có công ty với rating là 3.7 có mức lương Lower Salary và Upper Salary cao hơn so với những điểm dữ liệu khác."
   ]
  },
  {
   "cell_type": "code",
   "execution_count": 52,
   "metadata": {},
   "outputs": [
    {
     "data": {
      "image/png": "[encoded data removed]",
      "text/plain": [
       "<Figure size 648x648 with 1 Axes>"
      ]
     },
     "metadata": {
      "needs_background": "light"
     },
     "output_type": "display_data"
    },
    {
     "data": {
      "image/png": "[encoded data removed]",
      "text/plain": [
       "<Figure size 432x288 with 1 Axes>"
      ]
     },
     "metadata": {
      "needs_background": "light"
     },
     "output_type": "display_data"
    },
    {
     "data": {
      "image/png": "[encoded data removed]",
      "text/plain": [
       "<Figure size 432x288 with 1 Axes>"
      ]
     },
     "metadata": {
      "needs_background": "light"
     },
     "output_type": "display_data"
    },
    {
     "data": {
      "image/png": "[encoded data removed]",
      "text/plain": [
       "<Figure size 432x288 with 1 Axes>"
      ]
     },
     "metadata": {
      "needs_background": "light"
     },
     "output_type": "display_data"
    }
   ],
   "source": [
    "# với công việc là data scientist thì làm tương tự như analyst.\n",
    "# lấy ra những dòng có job_title_sim là data scientist\n",
    "ds_df = job_salary_df[job_salary_df[\"job_title_sim\"] == \"data scientist\"]\n",
    "\n",
    "# vẽ đồ thị\n",
    "plt.figure(figsize=(9,9))\n",
    "plt.xticks(np.arange(1,5.1,0.25))\n",
    "plt.yticks(range(0,350,25))\n",
    "plt.scatter(ds_df[\"Rating\"],ds_df[\"Upper Salary\"])\n",
    "plt.scatter(ds_df[\"Rating\"],ds_df[\"Lower Salary\"])\n",
    "plt.xlabel(\"Rating\")\n",
    "plt.ylabel(\"Salary\")\n",
    "plt.legend(['Upper Salary','Lower Salary']);\n",
    "plt.title(\"DATA SCIENTIST: Rating vs. Salary\");\n",
    "\n",
    "plt.figure();\n",
    "counts=plt.hist(ds_df[\"Rating\"],edgecolor='black')\n",
    "plt.xticks(counts[1]);\n",
    "plt.title(\"Rating\")\n",
    "plt.figure()\n",
    "counts = plt.hist(ds_df[\"Lower Salary\"],edgecolor='black')\n",
    "plt.xticks(counts[1]);\n",
    "plt.title(\"Lower Salary\")\n",
    "plt.figure()\n",
    "counts = plt.hist(ds_df[\"Upper Salary\"],edgecolor='black')\n",
    "plt.xticks(counts[1]);\n",
    "plt.title(\"Upper Salary\");"
   ]
  },
  {
   "cell_type": "markdown",
   "metadata": {},
   "source": [
    "**Nhận xét:**\n",
    "- Data Scientist có nhiều dữ liệu hơn so với analyst và data engineer.\n",
    "- Dữ liệu có rating trong khoảng từ 3.2 đến 4.35 là tập trung nhiều nhất.\n",
    "- Các giá trị của Lower Salary tập trung nhiều trong khoảng từ 50 đến 125.\n",
    "- Các giá trị của Upper Salary tập trung nhiều trong khoảng từ 125 đến 200."
   ]
  },
  {
   "cell_type": "markdown",
   "metadata": {},
   "source": [
    "#### Nhận xét chung về ba công việc trên:\n",
    "- Các điểm dữ liệu thường thẳng hàng với nhau cho thấy có khá nhiều công ty có rating trùng với nhau.\n",
    "- Các rating của công tỳ thường trong khoảng từ 3.0 đến 4.0"
   ]
  }
 ],
 "metadata": {
  "kernelspec": {
   "display_name": "Python 3 (ipykernel)",
   "language": "python",
   "name": "python3"
  },
  "language_info": {
   "codemirror_mode": {
    "name": "ipython",
    "version": 3
   },
   "file_extension": ".py",
   "mimetype": "text/x-python",
   "name": "python",
   "nbconvert_exporter": "python",
   "pygments_lexer": "ipython3",
   "version": "3.8.8"
  }
 },
 "nbformat": 4,
 "nbformat_minor": 2
}
