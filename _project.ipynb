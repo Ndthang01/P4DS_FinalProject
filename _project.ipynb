{
 "cells": [
  {
   "cell_type": "code",
   "execution_count": null,
   "metadata": {},
   "outputs": [],
   "source": [
    "#1. Import các thư viện cần thiết"
   ]
  },
  {
   "cell_type": "code",
   "execution_count": null,
   "metadata": {},
   "outputs": [],
   "source": [
    "import pandas as pd\n"
   ]
  },
  {
   "cell_type": "markdown",
   "metadata": {},
   "source": [
    "#2. Thu thập dữ liệu\n"
   ]
  },
  {
   "cell_type": "markdown",
   "metadata": {},
   "source": [
    "## Dữ liệu thuộc chủ đề gì và lấy từ nguồn nào?\n",
    "Dữ liệu sử dụng trong đồ án được lấy từ trang kaggle thu thập các thông tin về tiền lương của nhà khoa học dữ liệu EDA\n",
    "\n"
   ]
  },
  {
   "cell_type": "markdown",
   "metadata": {},
   "source": [
    "## Mô tả về dữ liệu\n",
    "Dữ liệu sử dụng trong đồ án được lấy từ trang kaggle thu thập các thông tin về tiền lương của nhà khoa học dữ liệu EDA\n"
   ]
  },
  {
   "cell_type": "markdown",
   "metadata": {},
   "source": []
  }
 ],
 "metadata": {
  "language_info": {
   "name": "python"
  },
  "orig_nbformat": 4
 },
 "nbformat": 4,
 "nbformat_minor": 2
}
